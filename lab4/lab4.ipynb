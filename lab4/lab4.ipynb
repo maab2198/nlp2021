{
 "cells": [
  {
   "cell_type": "markdown",
   "metadata": {},
   "source": [
    "## Лабороторна робота 4\n",
    "## Абрамова Марія"
   ]
  },
  {
   "cell_type": "code",
   "execution_count": 1,
   "metadata": {},
   "outputs": [
    {
     "name": "stderr",
     "output_type": "stream",
     "text": [
      "2021-11-25 17:45:24.426589: W tensorflow/stream_executor/platform/default/dso_loader.cc:64] Could not load dynamic library 'libcudart.so.11.0'; dlerror: libcudart.so.11.0: cannot open shared object file: No such file or directory\n",
      "2021-11-25 17:45:24.426632: I tensorflow/stream_executor/cuda/cudart_stub.cc:29] Ignore above cudart dlerror if you do not have a GPU set up on your machine.\n"
     ]
    }
   ],
   "source": [
    "import pandas as pd\n",
    "import random\n",
    "import tensorflow as tf \n",
    "from matplotlib import pyplot as plt\n",
    "\n",
    "from tensorflow.keras.layers.experimental.preprocessing import TextVectorization\n",
    "from tensorflow.keras.layers import Embedding\n",
    "from tensorflow.keras import Sequential\n",
    "from sklearn.model_selection import train_test_split"
   ]
  },
  {
   "cell_type": "markdown",
   "metadata": {},
   "source": [
    "### Get a text dataset"
   ]
  },
  {
   "cell_type": "code",
   "execution_count": 2,
   "metadata": {},
   "outputs": [],
   "source": [
    "siameseData = pd.read_csv(\"siamese_nn.csv\")\n",
    "emotionData = pd.read_csv(\"emotion_recognition.csv\",sep=\";\")\n",
    "covidData = pd.read_csv(\"coranavirus_disease.csv\",sep=\";\")\n",
    "covidData[\"target\"] = 2\n",
    "emotionData[\"target\"] = 0"
   ]
  },
  {
   "cell_type": "code",
   "execution_count": 3,
   "metadata": {},
   "outputs": [
    {
     "data": {
      "text/html": [
       "<div>\n",
       "<style scoped>\n",
       "    .dataframe tbody tr th:only-of-type {\n",
       "        vertical-align: middle;\n",
       "    }\n",
       "\n",
       "    .dataframe tbody tr th {\n",
       "        vertical-align: top;\n",
       "    }\n",
       "\n",
       "    .dataframe thead th {\n",
       "        text-align: right;\n",
       "    }\n",
       "</style>\n",
       "<table border=\"1\" class=\"dataframe\">\n",
       "  <thead>\n",
       "    <tr style=\"text-align: right;\">\n",
       "      <th></th>\n",
       "      <th>text</th>\n",
       "      <th>target</th>\n",
       "    </tr>\n",
       "  </thead>\n",
       "  <tbody>\n",
       "    <tr>\n",
       "      <th>39</th>\n",
       "      <td>In order to demonstrate the high effectivennes...</td>\n",
       "      <td>0</td>\n",
       "    </tr>\n",
       "    <tr>\n",
       "      <th>38</th>\n",
       "      <td>In this experimental work, we have used Multiv...</td>\n",
       "      <td>0</td>\n",
       "    </tr>\n",
       "    <tr>\n",
       "      <th>183</th>\n",
       "      <td>Hao has constructed the ensemble predictor of ...</td>\n",
       "      <td>2</td>\n",
       "    </tr>\n",
       "    <tr>\n",
       "      <th>13</th>\n",
       "      <td>. After the last convolutional layer we divide...</td>\n",
       "      <td>0</td>\n",
       "    </tr>\n",
       "    <tr>\n",
       "      <th>90</th>\n",
       "      <td>Speech is the main and direct means of transmi...</td>\n",
       "      <td>0</td>\n",
       "    </tr>\n",
       "    <tr>\n",
       "      <th>165</th>\n",
       "      <td>Region-wise this distribution depicts total de...</td>\n",
       "      <td>2</td>\n",
       "    </tr>\n",
       "    <tr>\n",
       "      <th>44</th>\n",
       "      <td>. It contains 535 utterances spoken by 10 acto...</td>\n",
       "      <td>0</td>\n",
       "    </tr>\n",
       "    <tr>\n",
       "      <th>4</th>\n",
       "      <td>The main advantage of DL is the fact that it r...</td>\n",
       "      <td>0</td>\n",
       "    </tr>\n",
       "    <tr>\n",
       "      <th>57</th>\n",
       "      <td>The researchers are still debating for what fe...</td>\n",
       "      <td>0</td>\n",
       "    </tr>\n",
       "    <tr>\n",
       "      <th>149</th>\n",
       "      <td>In addition, the introduced method learns to g...</td>\n",
       "      <td>2</td>\n",
       "    </tr>\n",
       "  </tbody>\n",
       "</table>\n",
       "</div>"
      ],
      "text/plain": [
       "                                                  text  target\n",
       "39   In order to demonstrate the high effectivennes...       0\n",
       "38   In this experimental work, we have used Multiv...       0\n",
       "183  Hao has constructed the ensemble predictor of ...       2\n",
       "13   . After the last convolutional layer we divide...       0\n",
       "90   Speech is the main and direct means of transmi...       0\n",
       "165  Region-wise this distribution depicts total de...       2\n",
       "44   . It contains 535 utterances spoken by 10 acto...       0\n",
       "4    The main advantage of DL is the fact that it r...       0\n",
       "57   The researchers are still debating for what fe...       0\n",
       "149  In addition, the introduced method learns to g...       2"
      ]
     },
     "execution_count": 3,
     "metadata": {},
     "output_type": "execute_result"
    }
   ],
   "source": [
    "train_df = pd.concat([emotionData,covidData, siameseData], ignore_index=True )\n",
    "train_shuffle=train_df.sample(frac=1,random_state=9) \n",
    "train_shuffle.head(10)"
   ]
  },
  {
   "cell_type": "code",
   "execution_count": 4,
   "metadata": {},
   "outputs": [
    {
     "data": {
      "text/plain": [
       "0    100\n",
       "2    100\n",
       "1    100\n",
       "Name: target, dtype: int64"
      ]
     },
     "execution_count": 4,
     "metadata": {},
     "output_type": "execute_result"
    }
   ],
   "source": [
    "train_shuffle.target.value_counts()"
   ]
  },
  {
   "cell_type": "code",
   "execution_count": 5,
   "metadata": {},
   "outputs": [],
   "source": [
    "train_sentences, test_sentences, train_labels,test_labels = train_test_split(\n",
    "    train_shuffle['text'].to_numpy(),\n",
    "    train_shuffle['target'].to_numpy(),\n",
    "    test_size=0.1, \n",
    "    random_state=40\n",
    ")"
   ]
  },
  {
   "cell_type": "code",
   "execution_count": 6,
   "metadata": {},
   "outputs": [
    {
     "name": "stderr",
     "output_type": "stream",
     "text": [
      "2021-11-25 17:45:43.484901: W tensorflow/stream_executor/platform/default/dso_loader.cc:64] Could not load dynamic library 'libcuda.so.1'; dlerror: libcuda.so.1: cannot open shared object file: No such file or directory\n",
      "2021-11-25 17:45:43.484965: W tensorflow/stream_executor/cuda/cuda_driver.cc:269] failed call to cuInit: UNKNOWN ERROR (303)\n",
      "2021-11-25 17:45:43.485008: I tensorflow/stream_executor/cuda/cuda_diagnostics.cc:156] kernel driver does not appear to be running on this host (mariia-HP-ProBook-430-G2): /proc/driver/nvidia/version does not exist\n",
      "2021-11-25 17:45:43.502023: I tensorflow/core/platform/cpu_feature_guard.cc:142] This TensorFlow binary is optimized with oneAPI Deep Neural Network Library (oneDNN) to use the following CPU instructions in performance-critical operations:  AVX2 FMA\n",
      "To enable them in other operations, rebuild TensorFlow with the appropriate compiler flags.\n"
     ]
    }
   ],
   "source": [
    "max_sq_len = round(sum([len(i.split()) for i in train_sentences])/len(train_sentences))\n",
    "text_vectorizer = TextVectorization(max_tokens=10000,  #number of word in vocabulary\n",
    "                                    standardize=\"lower_and_strip_punctuation\", \n",
    "                                    split =\"whitespace\",\n",
    "                                    output_mode=\"int\",\n",
    "                                    output_sequence_length=max_sq_len,\n",
    "                                    pad_to_max_tokens=True)"
   ]
  },
  {
   "cell_type": "code",
   "execution_count": 7,
   "metadata": {},
   "outputs": [
    {
     "name": "stderr",
     "output_type": "stream",
     "text": [
      "2021-11-25 17:45:44.378067: I tensorflow/compiler/mlir/mlir_graph_optimization_pass.cc:185] None of the MLIR Optimization Passes are enabled (registered 2)\n"
     ]
    }
   ],
   "source": [
    "text_vectorizer.adapt(train_sentences)"
   ]
  },
  {
   "cell_type": "code",
   "execution_count": 8,
   "metadata": {},
   "outputs": [],
   "source": [
    "embedding = Embedding(\n",
    "                        input_dim=10000, \n",
    "                        output_dim=128, \n",
    "                        input_length=max_sq_len, \n",
    "                        name = 'embeding_1'\n",
    ")"
   ]
  },
  {
   "cell_type": "markdown",
   "metadata": {},
   "source": [
    "## Helper Function to evaluate: accuracy, precision, recall, f1-score"
   ]
  },
  {
   "cell_type": "code",
   "execution_count": 9,
   "metadata": {},
   "outputs": [],
   "source": [
    "\n",
    "from sklearn.metrics import accuracy_score, precision_recall_fscore_support\n",
    "\n",
    "def calculate_results(y_true, y_pred):\n",
    "  \"\"\"\n",
    "  Calculates model accuracy, precision, recall and f1 score of a binary classification model.\n",
    "\n",
    "  Args:\n",
    "  -----\n",
    "  y_true = true labels in the form of a 1D array\n",
    "  y_pred = predicted labels in the form of a 1D array\n",
    "\n",
    "  Returns a dictionary of accuracy, precision, recall, f1-score.\n",
    "  \"\"\"\n",
    "  # Calculate model accuracy\n",
    "  model_accuracy = accuracy_score(y_true, y_pred) * 100\n",
    "  # Calculate model precision, recall and f1 score using \"weighted\" average\n",
    "  model_precision, model_recall, model_f1, _ = precision_recall_fscore_support(y_true, y_pred, average=\"weighted\")\n",
    "  model_results = {\"accuracy\": model_accuracy,\n",
    "                  \"precision\": model_precision,\n",
    "                  \"recall\": model_recall,\n",
    "                  \"f1\": model_f1}\n",
    "  return model_results\n",
    "  "
   ]
  },
  {
   "cell_type": "code",
   "execution_count": 10,
   "metadata": {},
   "outputs": [],
   "source": [
    "def compare_baseline_to_new_results(baseline_results, new_model_results):\n",
    "  for key, value in baseline_results.items():\n",
    "    print(f\"Baseline {key}: {value:.2f}, New {key}: {new_model_results[key]:.2f}, Difference: {new_model_results[key]-value:.2f}\")\n"
   ]
  },
  {
   "cell_type": "code",
   "execution_count": 11,
   "metadata": {},
   "outputs": [],
   "source": [
    "def plot_history(history): \n",
    "    plt.plot(history.history['accuracy'])\n",
    "    plt.plot(history.history['val_accuracy'])\n",
    "    plt.title('model accuracy')\n",
    "    plt.ylabel('accuracy')\n",
    "    plt.xlabel('epoch')\n",
    "    plt.legend(['train', 'val'], loc='upper left')\n",
    "    plt.show()\n",
    "    plt.plot(history.history['loss'])\n",
    "    plt.plot(history.history['val_loss'])\n",
    "    plt.title('model loss')\n",
    "    plt.ylabel('loss')\n",
    "    plt.xlabel('epoch')\n",
    "    plt.legend(['train', 'val'], loc='upper left')\n",
    "    plt.show()"
   ]
  },
  {
   "cell_type": "markdown",
   "metadata": {},
   "source": [
    "## Model 0: Baseline "
   ]
  },
  {
   "cell_type": "code",
   "execution_count": 12,
   "metadata": {},
   "outputs": [],
   "source": [
    "from sklearn.feature_extraction.text import TfidfVectorizer\n",
    "from sklearn.naive_bayes import MultinomialNB\n",
    "from sklearn.pipeline import Pipeline\n",
    "model_0= Pipeline([ \n",
    "    (\"tfidf\",TfidfVectorizer()), \n",
    "    (\"clf\", MultinomialNB())\n",
    "])\n",
    "model_0.fit(train_sentences,train_labels)\n",
    "model_0_preds =model_0.predict(test_sentences)\n",
    "model_0_results = calculate_results(test_labels,model_0_preds)"
   ]
  },
  {
   "cell_type": "markdown",
   "metadata": {},
   "source": [
    "## Model 2: LSTM"
   ]
  },
  {
   "cell_type": "code",
   "execution_count": 13,
   "metadata": {},
   "outputs": [],
   "source": [
    "from tensorflow.keras import layers\n",
    "\n",
    "\n",
    "\n",
    "inputs = layers.Input(shape=(1,), dtype=\"string\")\n",
    "x = text_vectorizer(inputs)\n",
    "x = embedding(x)\n",
    "x = layers.LSTM(64, return_sequences= True)(x)\n",
    "x = layers.LSTM(64)(x)\n",
    "x = layers.Dense(64, activation=\"relu\")(x) \n",
    "outputs = layers.Dense(3, activation=\"softmax\")(x)\n",
    "\n",
    "model_2 = tf.keras.Model(inputs,outputs,name=\"model_2_LSTM\")\n"
   ]
  },
  {
   "cell_type": "markdown",
   "metadata": {},
   "source": []
  },
  {
   "cell_type": "code",
   "execution_count": 14,
   "metadata": {},
   "outputs": [],
   "source": [
    "model_2.compile(loss=\"sparse_categorical_crossentropy\",\n",
    "                optimizer=tf.keras.optimizers.Adam(),\n",
    "                metrics=[\"accuracy\"])"
   ]
  },
  {
   "cell_type": "code",
   "execution_count": 15,
   "metadata": {},
   "outputs": [
    {
     "name": "stdout",
     "output_type": "stream",
     "text": [
      "Model: \"model_2_LSTM\"\n",
      "_________________________________________________________________\n",
      "Layer (type)                 Output Shape              Param #   \n",
      "=================================================================\n",
      "input_1 (InputLayer)         [(None, 1)]               0         \n",
      "_________________________________________________________________\n",
      "text_vectorization (TextVect (None, 24)                0         \n",
      "_________________________________________________________________\n",
      "embeding_1 (Embedding)       (None, 24, 128)           1280000   \n",
      "_________________________________________________________________\n",
      "lstm (LSTM)                  (None, 24, 64)            49408     \n",
      "_________________________________________________________________\n",
      "lstm_1 (LSTM)                (None, 64)                33024     \n",
      "_________________________________________________________________\n",
      "dense (Dense)                (None, 64)                4160      \n",
      "_________________________________________________________________\n",
      "dense_1 (Dense)              (None, 3)                 195       \n",
      "=================================================================\n",
      "Total params: 1,366,787\n",
      "Trainable params: 1,366,787\n",
      "Non-trainable params: 0\n",
      "_________________________________________________________________\n"
     ]
    }
   ],
   "source": [
    "model_2.summary()"
   ]
  },
  {
   "cell_type": "code",
   "execution_count": 16,
   "metadata": {},
   "outputs": [
    {
     "name": "stdout",
     "output_type": "stream",
     "text": [
      "Epoch 1/5\n",
      "54/54 [==============================] - 12s 89ms/step - loss: 1.0875 - accuracy: 0.3667 - val_loss: 0.9450 - val_accuracy: 0.6333\n",
      "Epoch 2/5\n",
      "54/54 [==============================] - 3s 54ms/step - loss: 0.5498 - accuracy: 0.7778 - val_loss: 0.7277 - val_accuracy: 0.7333\n",
      "Epoch 3/5\n",
      "54/54 [==============================] - 3s 60ms/step - loss: 0.1531 - accuracy: 0.9630 - val_loss: 0.9453 - val_accuracy: 0.7000\n",
      "Epoch 4/5\n",
      "54/54 [==============================] - 2s 39ms/step - loss: 0.0329 - accuracy: 0.9926 - val_loss: 0.2817 - val_accuracy: 0.8667\n",
      "Epoch 5/5\n",
      "54/54 [==============================] - 2s 37ms/step - loss: 0.0040 - accuracy: 1.0000 - val_loss: 0.3426 - val_accuracy: 0.8667\n"
     ]
    }
   ],
   "source": [
    "model_2_history = model_2.fit(train_sentences,train_labels, epochs=5,batch_size=5, validation_data=(test_sentences,test_labels))"
   ]
  },
  {
   "cell_type": "code",
   "execution_count": 17,
   "metadata": {},
   "outputs": [
    {
     "data": {
      "image/png": "[encoded data removed]",
      "text/plain": [
       "<Figure size 432x288 with 1 Axes>"
      ]
     },
     "metadata": {
      "needs_background": "light"
     },
     "output_type": "display_data"
    },
    {
     "data": {
      "image/png": "[encoded data removed]",
      "text/plain": [
       "<Figure size 432x288 with 1 Axes>"
      ]
     },
     "metadata": {
      "needs_background": "light"
     },
     "output_type": "display_data"
    }
   ],
   "source": [
    "plot_history(model_2_history)"
   ]
  },
  {
   "cell_type": "code",
   "execution_count": 18,
   "metadata": {},
   "outputs": [
    {
     "name": "stdout",
     "output_type": "stream",
     "text": [
      "1/1 [==============================] - 1s 1s/step - loss: 0.3426 - accuracy: 0.8667\n"
     ]
    },
    {
     "data": {
      "text/plain": [
       "[0.34255632758140564, 0.8666666746139526]"
      ]
     },
     "execution_count": 18,
     "metadata": {},
     "output_type": "execute_result"
    }
   ],
   "source": [
    "model_2.evaluate(test_sentences, test_labels)"
   ]
  },
  {
   "cell_type": "code",
   "execution_count": 19,
   "metadata": {},
   "outputs": [],
   "source": [
    "# Make predictions \n",
    "model_2_pred_probs = model_2.predict(test_sentences)"
   ]
  },
  {
   "cell_type": "code",
   "execution_count": 20,
   "metadata": {},
   "outputs": [
    {
     "data": {
      "text/plain": [
       "<tf.Tensor: shape=(30,), dtype=int64, numpy=\n",
       "array([0, 0, 1, 1, 0, 0, 1, 0, 2, 0, 2, 2, 0, 0, 1, 1, 0, 2, 0, 2, 0, 2,\n",
       "       0, 0, 1, 2, 0, 1, 1, 1])>"
      ]
     },
     "execution_count": 20,
     "metadata": {},
     "output_type": "execute_result"
    }
   ],
   "source": [
    "model_2_preds = tf.squeeze(tf.argmax(model_2_pred_probs, axis = 1))\n",
    "model_2_preds"
   ]
  },
  {
   "cell_type": "code",
   "execution_count": 21,
   "metadata": {},
   "outputs": [
    {
     "data": {
      "text/plain": [
       "{'accuracy': 86.66666666666667,\n",
       " 'precision': 0.8843915343915344,\n",
       " 'recall': 0.8666666666666667,\n",
       " 'f1': 0.8658684210526316}"
      ]
     },
     "execution_count": 21,
     "metadata": {},
     "output_type": "execute_result"
    }
   ],
   "source": [
    "model_2_results = calculate_results(test_labels,model_2_preds)\n",
    "model_2_results"
   ]
  },
  {
   "cell_type": "code",
   "execution_count": 22,
   "metadata": {},
   "outputs": [
    {
     "name": "stdout",
     "output_type": "stream",
     "text": [
      "Baseline accuracy: 96.67, New accuracy: 86.67, Difference: -10.00\n",
      "Baseline precision: 0.97, New precision: 0.88, Difference: -0.09\n",
      "Baseline recall: 0.97, New recall: 0.87, Difference: -0.10\n",
      "Baseline f1: 0.97, New f1: 0.87, Difference: -0.10\n"
     ]
    }
   ],
   "source": [
    "compare_baseline_to_new_results(model_0_results, model_2_results)"
   ]
  },
  {
   "cell_type": "markdown",
   "metadata": {},
   "source": [
    "## Model 3: GRU"
   ]
  },
  {
   "cell_type": "code",
   "execution_count": 23,
   "metadata": {},
   "outputs": [],
   "source": [
    "from tensorflow.keras import layers\n",
    "inputs = layers.Input(shape=(1,), dtype=\"string\")\n",
    "x = text_vectorizer(inputs)\n",
    "x = embedding(x)\n",
    "x = layers.GRU(64, return_sequences=True)(x) # stacking recurrent cells requires return_sequences=True\n",
    "x = layers.GRU(64)(x) \n",
    "x = layers.Dense(64, activation=\"relu\")(x) # optional dense layer after GRU cell\n",
    "outputs = layers.Dense(3, activation=\"softmax\")(x)\n",
    "model_3 = tf.keras.Model(inputs, outputs, name=\"model_3_GRU\")"
   ]
  },
  {
   "cell_type": "code",
   "execution_count": 24,
   "metadata": {},
   "outputs": [],
   "source": [
    "model_3.compile(loss=\"sparse_categorical_crossentropy\",\n",
    "                optimizer=tf.keras.optimizers.Adam(),\n",
    "                metrics=[\"accuracy\"])"
   ]
  },
  {
   "cell_type": "code",
   "execution_count": 25,
   "metadata": {},
   "outputs": [
    {
     "name": "stdout",
     "output_type": "stream",
     "text": [
      "Model: \"model_3_GRU\"\n",
      "_________________________________________________________________\n",
      "Layer (type)                 Output Shape              Param #   \n",
      "=================================================================\n",
      "input_2 (InputLayer)         [(None, 1)]               0         \n",
      "_________________________________________________________________\n",
      "text_vectorization (TextVect (None, 24)                0         \n",
      "_________________________________________________________________\n",
      "embeding_1 (Embedding)       (None, 24, 128)           1280000   \n",
      "_________________________________________________________________\n",
      "gru (GRU)                    (None, 24, 64)            37248     \n",
      "_________________________________________________________________\n",
      "gru_1 (GRU)                  (None, 64)                24960     \n",
      "_________________________________________________________________\n",
      "dense_2 (Dense)              (None, 64)                4160      \n",
      "_________________________________________________________________\n",
      "dense_3 (Dense)              (None, 3)                 195       \n",
      "=================================================================\n",
      "Total params: 1,346,563\n",
      "Trainable params: 1,346,563\n",
      "Non-trainable params: 0\n",
      "_________________________________________________________________\n"
     ]
    }
   ],
   "source": [
    "model_3.summary()"
   ]
  },
  {
   "cell_type": "code",
   "execution_count": 26,
   "metadata": {},
   "outputs": [
    {
     "name": "stdout",
     "output_type": "stream",
     "text": [
      "Epoch 1/5\n",
      "9/9 [==============================] - 7s 225ms/step - loss: 1.0839 - accuracy: 0.4704 - val_loss: 1.0560 - val_accuracy: 0.6667\n",
      "Epoch 2/5\n",
      "9/9 [==============================] - 0s 51ms/step - loss: 0.9934 - accuracy: 0.7000 - val_loss: 0.9232 - val_accuracy: 0.6333\n",
      "Epoch 3/5\n",
      "9/9 [==============================] - 0s 46ms/step - loss: 0.6491 - accuracy: 0.8704 - val_loss: 0.4930 - val_accuracy: 0.8667\n",
      "Epoch 4/5\n",
      "9/9 [==============================] - 0s 46ms/step - loss: 0.1614 - accuracy: 0.9593 - val_loss: 0.4386 - val_accuracy: 0.8333\n",
      "Epoch 5/5\n",
      "9/9 [==============================] - 0s 51ms/step - loss: 0.0103 - accuracy: 1.0000 - val_loss: 0.5036 - val_accuracy: 0.9000\n"
     ]
    }
   ],
   "source": [
    "model_3_history = model_3.fit(train_sentences,\n",
    "                              train_labels,\n",
    "                              epochs=5,\n",
    "                              validation_data=(test_sentences, test_labels),\n",
    "                              )"
   ]
  },
  {
   "cell_type": "code",
   "execution_count": 27,
   "metadata": {},
   "outputs": [
    {
     "data": {
      "image/png": "[encoded data removed]",
      "text/plain": [
       "<Figure size 432x288 with 1 Axes>"
      ]
     },
     "metadata": {
      "needs_background": "light"
     },
     "output_type": "display_data"
    },
    {
     "data": {
      "image/png": "[encoded data removed]",
      "text/plain": [
       "<Figure size 432x288 with 1 Axes>"
      ]
     },
     "metadata": {
      "needs_background": "light"
     },
     "output_type": "display_data"
    }
   ],
   "source": [
    "plot_history(model_3_history)"
   ]
  },
  {
   "cell_type": "code",
   "execution_count": 28,
   "metadata": {},
   "outputs": [],
   "source": [
    "model_3_pred_probs = model_3.predict(test_sentences)"
   ]
  },
  {
   "cell_type": "code",
   "execution_count": 29,
   "metadata": {},
   "outputs": [
    {
     "data": {
      "text/plain": [
       "<tf.Tensor: shape=(30,), dtype=int64, numpy=\n",
       "array([0, 2, 1, 1, 0, 0, 1, 0, 2, 0, 0, 0, 0, 0, 0, 1, 0, 2, 1, 2, 1, 2,\n",
       "       0, 0, 1, 2, 0, 1, 1, 1])>"
      ]
     },
     "execution_count": 29,
     "metadata": {},
     "output_type": "execute_result"
    }
   ],
   "source": [
    "model_3_preds = tf.squeeze(tf.argmax(model_3_pred_probs, axis = 1))\n",
    "model_3_preds"
   ]
  },
  {
   "cell_type": "code",
   "execution_count": 30,
   "metadata": {},
   "outputs": [
    {
     "data": {
      "text/plain": [
       "{'accuracy': 90.0, 'precision': 0.9214285714285714, 'recall': 0.9, 'f1': 0.896}"
      ]
     },
     "execution_count": 30,
     "metadata": {},
     "output_type": "execute_result"
    }
   ],
   "source": [
    "model_3_results = calculate_results(y_true = test_labels, y_pred = model_3_preds)\n",
    "model_3_results "
   ]
  },
  {
   "cell_type": "code",
   "execution_count": 31,
   "metadata": {},
   "outputs": [
    {
     "name": "stdout",
     "output_type": "stream",
     "text": [
      "Baseline accuracy: 96.67, New accuracy: 90.00, Difference: -6.67\n",
      "Baseline precision: 0.97, New precision: 0.92, Difference: -0.05\n",
      "Baseline recall: 0.97, New recall: 0.90, Difference: -0.07\n",
      "Baseline f1: 0.97, New f1: 0.90, Difference: -0.07\n"
     ]
    }
   ],
   "source": [
    "compare_baseline_to_new_results(model_0_results, model_3_results)"
   ]
  },
  {
   "cell_type": "markdown",
   "metadata": {},
   "source": [
    "## Model 4: Bidirectonal RNN model (LSTM)"
   ]
  },
  {
   "cell_type": "code",
   "execution_count": 32,
   "metadata": {},
   "outputs": [],
   "source": [
    "from tensorflow.keras import layers\n",
    "inputs = layers.Input(shape=(1,), dtype=\"string\")\n",
    "x = text_vectorizer(inputs)\n",
    "x = embedding(x)\n",
    "x = layers.Bidirectional(layers.LSTM(64, return_sequences=True))(x) # stacking RNN layers requires return_sequences=True\n",
    "x = layers.Bidirectional(layers.LSTM(64))(x) # bidirectional goes both ways so has double the parameters of a regular LSTM layer\n",
    "outputs = layers.Dense(3, activation=\"softmax\")(x)\n",
    "model_4 = tf.keras.Model(inputs, outputs, name=\"model_4_Bidirectional_LSTM\")"
   ]
  },
  {
   "cell_type": "code",
   "execution_count": 33,
   "metadata": {},
   "outputs": [],
   "source": [
    "model_4.compile(loss=\"sparse_categorical_crossentropy\",\n",
    "                optimizer=tf.keras.optimizers.Adam(),\n",
    "                metrics=[\"accuracy\"])"
   ]
  },
  {
   "cell_type": "code",
   "execution_count": 34,
   "metadata": {},
   "outputs": [
    {
     "name": "stdout",
     "output_type": "stream",
     "text": [
      "Model: \"model_4_Bidirectional_LSTM\"\n",
      "_________________________________________________________________\n",
      "Layer (type)                 Output Shape              Param #   \n",
      "=================================================================\n",
      "input_3 (InputLayer)         [(None, 1)]               0         \n",
      "_________________________________________________________________\n",
      "text_vectorization (TextVect (None, 24)                0         \n",
      "_________________________________________________________________\n",
      "embeding_1 (Embedding)       (None, 24, 128)           1280000   \n",
      "_________________________________________________________________\n",
      "bidirectional (Bidirectional (None, 24, 128)           98816     \n",
      "_________________________________________________________________\n",
      "bidirectional_1 (Bidirection (None, 128)               98816     \n",
      "_________________________________________________________________\n",
      "dense_4 (Dense)              (None, 3)                 387       \n",
      "=================================================================\n",
      "Total params: 1,478,019\n",
      "Trainable params: 1,478,019\n",
      "Non-trainable params: 0\n",
      "_________________________________________________________________\n"
     ]
    }
   ],
   "source": [
    "model_4.summary()"
   ]
  },
  {
   "cell_type": "code",
   "execution_count": 35,
   "metadata": {},
   "outputs": [
    {
     "name": "stdout",
     "output_type": "stream",
     "text": [
      "Epoch 1/5\n",
      "9/9 [==============================] - 11s 295ms/step - loss: 1.0033 - accuracy: 0.7148 - val_loss: 0.9075 - val_accuracy: 0.8000\n",
      "Epoch 2/5\n",
      "9/9 [==============================] - 1s 84ms/step - loss: 0.4253 - accuracy: 0.9963 - val_loss: 0.3746 - val_accuracy: 0.8333\n",
      "Epoch 3/5\n",
      "9/9 [==============================] - 1s 70ms/step - loss: 0.0237 - accuracy: 0.9926 - val_loss: 0.4388 - val_accuracy: 0.9000\n",
      "Epoch 4/5\n",
      "9/9 [==============================] - 1s 70ms/step - loss: 0.0013 - accuracy: 1.0000 - val_loss: 0.6448 - val_accuracy: 0.8667\n",
      "Epoch 5/5\n",
      "9/9 [==============================] - 1s 69ms/step - loss: 4.6190e-04 - accuracy: 1.0000 - val_loss: 0.6094 - val_accuracy: 0.9000\n"
     ]
    }
   ],
   "source": [
    "model_4_history = model_4.fit(train_sentences,\n",
    "                              train_labels,\n",
    "                              epochs=5,\n",
    "                              validation_data=(test_sentences, test_labels),\n",
    "                              )"
   ]
  },
  {
   "cell_type": "code",
   "execution_count": 36,
   "metadata": {},
   "outputs": [
    {
     "data": {
      "image/png": "[encoded data removed]",
      "text/plain": [
       "<Figure size 432x288 with 1 Axes>"
      ]
     },
     "metadata": {
      "needs_background": "light"
     },
     "output_type": "display_data"
    },
    {
     "data": {
      "image/png": "[encoded data removed]",
      "text/plain": [
       "<Figure size 432x288 with 1 Axes>"
      ]
     },
     "metadata": {
      "needs_background": "light"
     },
     "output_type": "display_data"
    }
   ],
   "source": [
    "plot_history(model_4_history)"
   ]
  },
  {
   "cell_type": "code",
   "execution_count": 37,
   "metadata": {},
   "outputs": [
    {
     "data": {
      "text/plain": [
       "<tf.Tensor: shape=(30,), dtype=int64, numpy=\n",
       "array([0, 0, 1, 1, 0, 0, 1, 0, 2, 0, 2, 2, 0, 0, 0, 1, 0, 2, 0, 2, 1, 2,\n",
       "       0, 0, 1, 2, 0, 1, 1, 1])>"
      ]
     },
     "execution_count": 37,
     "metadata": {},
     "output_type": "execute_result"
    }
   ],
   "source": [
    "model_4_pred_probs = model_4.predict(test_sentences)\n",
    "model_4_preds = tf.squeeze(tf.argmax(model_4_pred_probs, axis = 1))\n",
    "model_4_preds"
   ]
  },
  {
   "cell_type": "code",
   "execution_count": 38,
   "metadata": {},
   "outputs": [
    {
     "data": {
      "text/plain": [
       "{'accuracy': 90.0,\n",
       " 'precision': 0.9214285714285714,\n",
       " 'recall': 0.9,\n",
       " 'f1': 0.9009561403508771}"
      ]
     },
     "execution_count": 38,
     "metadata": {},
     "output_type": "execute_result"
    }
   ],
   "source": [
    "model_4_results = calculate_results(y_true = test_labels, y_pred = model_4_preds)\n",
    "model_4_results "
   ]
  },
  {
   "cell_type": "code",
   "execution_count": 39,
   "metadata": {},
   "outputs": [
    {
     "name": "stdout",
     "output_type": "stream",
     "text": [
      "Baseline accuracy: 96.67, New accuracy: 90.00, Difference: -6.67\n",
      "Baseline precision: 0.97, New precision: 0.92, Difference: -0.05\n",
      "Baseline recall: 0.97, New recall: 0.90, Difference: -0.07\n",
      "Baseline f1: 0.97, New f1: 0.90, Difference: -0.07\n"
     ]
    }
   ],
   "source": [
    "compare_baseline_to_new_results(model_0_results, model_4_results)"
   ]
  },
  {
   "cell_type": "code",
   "execution_count": 40,
   "metadata": {},
   "outputs": [
    {
     "name": "stdout",
     "output_type": "stream",
     "text": [
      "Baseline accuracy: 86.67, New accuracy: 90.00, Difference: 3.33\n",
      "Baseline precision: 0.88, New precision: 0.92, Difference: 0.04\n",
      "Baseline recall: 0.87, New recall: 0.90, Difference: 0.03\n",
      "Baseline f1: 0.87, New f1: 0.90, Difference: 0.04\n"
     ]
    }
   ],
   "source": [
    "compare_baseline_to_new_results(model_2_results, model_4_results)"
   ]
  },
  {
   "cell_type": "markdown",
   "metadata": {},
   "source": [
    "## Model 5: Bidirectonal RNN model (GRU)"
   ]
  },
  {
   "cell_type": "code",
   "execution_count": 41,
   "metadata": {},
   "outputs": [],
   "source": [
    "from tensorflow.keras import layers\n",
    "inputs = layers.Input(shape=(1,), dtype=\"string\")\n",
    "x = text_vectorizer(inputs)\n",
    "x = embedding(x)\n",
    "x = layers.Bidirectional(layers.GRU(64, return_sequences=True))(x) \n",
    "x = layers.Bidirectional(layers.GRU(64))(x) \n",
    "x = layers.Dense(64, activation=\"relu\")(x)\n",
    "outputs = layers.Dense(3, activation=\"softmax\")(x)\n",
    "model_5 = tf.keras.Model(inputs, outputs, name=\"model_5_Bidirectional_GRU\")"
   ]
  },
  {
   "cell_type": "code",
   "execution_count": 42,
   "metadata": {},
   "outputs": [
    {
     "name": "stdout",
     "output_type": "stream",
     "text": [
      "Model: \"model_5_Bidirectional_GRU\"\n",
      "_________________________________________________________________\n",
      "Layer (type)                 Output Shape              Param #   \n",
      "=================================================================\n",
      "input_4 (InputLayer)         [(None, 1)]               0         \n",
      "_________________________________________________________________\n",
      "text_vectorization (TextVect (None, 24)                0         \n",
      "_________________________________________________________________\n",
      "embeding_1 (Embedding)       (None, 24, 128)           1280000   \n",
      "_________________________________________________________________\n",
      "bidirectional_2 (Bidirection (None, 24, 128)           74496     \n",
      "_________________________________________________________________\n",
      "bidirectional_3 (Bidirection (None, 128)               74496     \n",
      "_________________________________________________________________\n",
      "dense_5 (Dense)              (None, 64)                8256      \n",
      "_________________________________________________________________\n",
      "dense_6 (Dense)              (None, 3)                 195       \n",
      "=================================================================\n",
      "Total params: 1,437,443\n",
      "Trainable params: 1,437,443\n",
      "Non-trainable params: 0\n",
      "_________________________________________________________________\n"
     ]
    }
   ],
   "source": [
    "model_5.compile(loss=\"sparse_categorical_crossentropy\",\n",
    "                optimizer=tf.keras.optimizers.Adam(),\n",
    "                metrics=[\"accuracy\"])\n",
    "model_5.summary()               "
   ]
  },
  {
   "cell_type": "code",
   "execution_count": 43,
   "metadata": {},
   "outputs": [
    {
     "name": "stdout",
     "output_type": "stream",
     "text": [
      "Epoch 1/5\n",
      "9/9 [==============================] - 13s 363ms/step - loss: 1.0119 - accuracy: 0.8037 - val_loss: 0.9361 - val_accuracy: 0.7667\n",
      "Epoch 2/5\n",
      "9/9 [==============================] - 1s 114ms/step - loss: 0.5990 - accuracy: 0.9926 - val_loss: 0.5349 - val_accuracy: 0.7000\n",
      "Epoch 3/5\n",
      "9/9 [==============================] - 1s 104ms/step - loss: 0.0852 - accuracy: 1.0000 - val_loss: 0.2938 - val_accuracy: 0.8667\n",
      "Epoch 4/5\n",
      "9/9 [==============================] - 1s 101ms/step - loss: 0.0013 - accuracy: 1.0000 - val_loss: 0.1509 - val_accuracy: 0.9333\n",
      "Epoch 5/5\n",
      "9/9 [==============================] - 1s 101ms/step - loss: 1.6170e-04 - accuracy: 1.0000 - val_loss: 0.0727 - val_accuracy: 0.9667\n"
     ]
    }
   ],
   "source": [
    "model_5_history = model_5.fit(train_sentences,\n",
    "                              train_labels,\n",
    "                              epochs=5,\n",
    "                              validation_data=(test_sentences, test_labels),\n",
    "                              )"
   ]
  },
  {
   "cell_type": "code",
   "execution_count": 44,
   "metadata": {},
   "outputs": [
    {
     "data": {
      "image/png": "[encoded data removed]",
      "text/plain": [
       "<Figure size 432x288 with 1 Axes>"
      ]
     },
     "metadata": {
      "needs_background": "light"
     },
     "output_type": "display_data"
    },
    {
     "data": {
      "image/png": "[encoded data removed]",
      "text/plain": [
       "<Figure size 432x288 with 1 Axes>"
      ]
     },
     "metadata": {
      "needs_background": "light"
     },
     "output_type": "display_data"
    }
   ],
   "source": [
    "plot_history(model_5_history)"
   ]
  },
  {
   "cell_type": "code",
   "execution_count": 45,
   "metadata": {},
   "outputs": [
    {
     "data": {
      "text/plain": [
       "<tf.Tensor: shape=(30,), dtype=int64, numpy=\n",
       "array([0, 2, 1, 1, 0, 0, 1, 0, 2, 0, 2, 2, 0, 0, 1, 1, 0, 2, 1, 2, 1, 2,\n",
       "       0, 0, 1, 2, 0, 1, 1, 1])>"
      ]
     },
     "execution_count": 45,
     "metadata": {},
     "output_type": "execute_result"
    }
   ],
   "source": [
    "model_5_pred_probs = model_5.predict(test_sentences)\n",
    "model_5_preds = tf.squeeze(tf.argmax(model_5_pred_probs, axis = 1))\n",
    "model_5_preds"
   ]
  },
  {
   "cell_type": "code",
   "execution_count": 46,
   "metadata": {},
   "outputs": [
    {
     "data": {
      "text/plain": [
       "{'accuracy': 96.66666666666667,\n",
       " 'precision': 0.9696969696969696,\n",
       " 'recall': 0.9666666666666667,\n",
       " 'f1': 0.9664799253034547}"
      ]
     },
     "execution_count": 46,
     "metadata": {},
     "output_type": "execute_result"
    }
   ],
   "source": [
    "model_5_results = calculate_results(y_true = test_labels, y_pred = model_5_preds)\n",
    "model_5_results "
   ]
  },
  {
   "cell_type": "code",
   "execution_count": 47,
   "metadata": {},
   "outputs": [
    {
     "name": "stdout",
     "output_type": "stream",
     "text": [
      "Baseline accuracy: 96.67, New accuracy: 96.67, Difference: 0.00\n",
      "Baseline precision: 0.97, New precision: 0.97, Difference: 0.00\n",
      "Baseline recall: 0.97, New recall: 0.97, Difference: 0.00\n",
      "Baseline f1: 0.97, New f1: 0.97, Difference: 0.00\n"
     ]
    }
   ],
   "source": [
    "compare_baseline_to_new_results(model_0_results, model_5_results)"
   ]
  },
  {
   "cell_type": "code",
   "execution_count": 48,
   "metadata": {},
   "outputs": [
    {
     "name": "stdout",
     "output_type": "stream",
     "text": [
      "Baseline accuracy: 90.00, New accuracy: 96.67, Difference: 6.67\n",
      "Baseline precision: 0.92, New precision: 0.97, Difference: 0.05\n",
      "Baseline recall: 0.90, New recall: 0.97, Difference: 0.07\n",
      "Baseline f1: 0.90, New f1: 0.97, Difference: 0.07\n"
     ]
    }
   ],
   "source": [
    "compare_baseline_to_new_results(model_3_results, model_5_results)"
   ]
  },
  {
   "cell_type": "code",
   "execution_count": 49,
   "metadata": {},
   "outputs": [],
   "source": [
    "# df_compare = pd.DataFrame({'Baseline': model_0_results ,\n",
    "#                              'LSTM' : model_2_results,\n",
    "#                              'GRU': model_3_results,\n",
    "#                              'Bidirectional  LSTM': model_4_results,\n",
    "#                              'Bidirectional  GRU': model_5_results})\n",
    "# df_compare"
   ]
  },
  {
   "cell_type": "code",
   "execution_count": 50,
   "metadata": {},
   "outputs": [
    {
     "data": {
      "text/html": [
       "<div>\n",
       "<style scoped>\n",
       "    .dataframe tbody tr th:only-of-type {\n",
       "        vertical-align: middle;\n",
       "    }\n",
       "\n",
       "    .dataframe tbody tr th {\n",
       "        vertical-align: top;\n",
       "    }\n",
       "\n",
       "    .dataframe thead th {\n",
       "        text-align: right;\n",
       "    }\n",
       "</style>\n",
       "<table border=\"1\" class=\"dataframe\">\n",
       "  <thead>\n",
       "    <tr style=\"text-align: right;\">\n",
       "      <th></th>\n",
       "      <th>Baseline</th>\n",
       "      <th>LSTM</th>\n",
       "      <th>GRU</th>\n",
       "      <th>Bidirectional  LSTM</th>\n",
       "      <th>Bidirectional  GRU</th>\n",
       "    </tr>\n",
       "  </thead>\n",
       "  <tbody>\n",
       "    <tr>\n",
       "      <th>accuracy</th>\n",
       "      <td>96.666667</td>\n",
       "      <td>86.666667</td>\n",
       "      <td>90.000000</td>\n",
       "      <td>90.000000</td>\n",
       "      <td>96.666667</td>\n",
       "    </tr>\n",
       "    <tr>\n",
       "      <th>precision</th>\n",
       "      <td>0.969444</td>\n",
       "      <td>0.884392</td>\n",
       "      <td>0.921429</td>\n",
       "      <td>0.921429</td>\n",
       "      <td>0.969697</td>\n",
       "    </tr>\n",
       "    <tr>\n",
       "      <th>recall</th>\n",
       "      <td>0.966667</td>\n",
       "      <td>0.866667</td>\n",
       "      <td>0.900000</td>\n",
       "      <td>0.900000</td>\n",
       "      <td>0.966667</td>\n",
       "    </tr>\n",
       "    <tr>\n",
       "      <th>f1</th>\n",
       "      <td>0.966411</td>\n",
       "      <td>0.865868</td>\n",
       "      <td>0.896000</td>\n",
       "      <td>0.900956</td>\n",
       "      <td>0.966480</td>\n",
       "    </tr>\n",
       "  </tbody>\n",
       "</table>\n",
       "</div>"
      ],
      "text/plain": [
       "            Baseline       LSTM        GRU  Bidirectional  LSTM  \\\n",
       "accuracy   96.666667  86.666667  90.000000            90.000000   \n",
       "precision   0.969444   0.884392   0.921429             0.921429   \n",
       "recall      0.966667   0.866667   0.900000             0.900000   \n",
       "f1          0.966411   0.865868   0.896000             0.900956   \n",
       "\n",
       "           Bidirectional  GRU  \n",
       "accuracy            96.666667  \n",
       "precision            0.969697  \n",
       "recall               0.966667  \n",
       "f1                   0.966480  "
      ]
     },
     "execution_count": 50,
     "metadata": {},
     "output_type": "execute_result"
    }
   ],
   "source": [
    "df_compare = pd.DataFrame({'Baseline': model_0_results ,\n",
    "                            'LSTM' : model_2_results,\n",
    "                             'GRU': model_3_results,\n",
    "                             'Bidirectional  LSTM': model_4_results,\n",
    "                             'Bidirectional  GRU': model_5_results})\n",
    "df_compare"
   ]
  },
  {
   "cell_type": "code",
   "execution_count": 51,
   "metadata": {},
   "outputs": [],
   "source": [
    "df_compare\n",
    "df_compare.to_csv('df_compare.csv')"
   ]
  }
 ],
 "metadata": {
  "interpreter": {
   "hash": "084a917606a6861dbe14d7cb67babe6a4c9c1ed8eedead555d116d638f8782d0"
  },
  "kernelspec": {
   "display_name": "Python 3.9.7 64-bit ('my_env': conda)",
   "name": "python3"
  },
  "language_info": {
   "codemirror_mode": {
    "name": "ipython",
    "version": 3
   },
   "file_extension": ".py",
   "mimetype": "text/x-python",
   "name": "python",
   "nbconvert_exporter": "python",
   "pygments_lexer": "ipython3",
   "version": "3.9.7"
  },
  "orig_nbformat": 4
 },
 "nbformat": 4,
 "nbformat_minor": 2
}

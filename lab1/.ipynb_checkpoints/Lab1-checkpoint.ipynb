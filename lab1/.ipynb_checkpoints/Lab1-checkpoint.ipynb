{
 "cells": [
  {
   "cell_type": "code",
   "execution_count": 57,
   "id": "314d4e22",
   "metadata": {},
   "outputs": [],
   "source": [
    "import matplotlib.pyplot as plt\n",
    "import numpy as np\n",
    "import csv\n",
    "import pandas as pd"
   ]
  },
  {
   "cell_type": "markdown",
   "id": "dd656768",
   "metadata": {},
   "source": [
    "## Task2"
   ]
  },
  {
   "cell_type": "code",
   "execution_count": 58,
   "id": "6c2efb25",
   "metadata": {},
   "outputs": [],
   "source": [
    "X = np.array([14,16,27,42,39,50,83]) # disk i/o\n",
    "Y = np.array([2,5,7,9,10,13,20]) #cpu"
   ]
  },
  {
   "cell_type": "code",
   "execution_count": 59,
   "id": "e4f72ff3",
   "metadata": {},
   "outputs": [],
   "source": [
    "b1 = 0.2438\n",
    "b0 = -0.0083"
   ]
  },
  {
   "cell_type": "code",
   "execution_count": 60,
   "id": "f04b63d3",
   "metadata": {},
   "outputs": [],
   "source": [
    "Y_hat = b0 + X*b1"
   ]
  },
  {
   "cell_type": "code",
   "execution_count": 61,
   "id": "e8c274e5",
   "metadata": {},
   "outputs": [
    {
     "data": {
      "text/plain": [
       "array([ 3.4049,  3.8925,  6.5743, 10.2313,  9.4999, 12.1817, 20.2271])"
      ]
     },
     "execution_count": 61,
     "metadata": {},
     "output_type": "execute_result"
    }
   ],
   "source": [
    "Y_hat"
   ]
  },
  {
   "cell_type": "code",
   "execution_count": 62,
   "id": "a0e0d9f3",
   "metadata": {},
   "outputs": [
    {
     "data": {
      "image/png": "[encoded data removed]",
      "text/plain": [
       "<Figure size 432x288 with 1 Axes>"
      ]
     },
     "metadata": {
      "needs_background": "light"
     },
     "output_type": "display_data"
    }
   ],
   "source": [
    "plt.plot(X, Y_hat,color=\"red\")\n",
    "plt.scatter(X,Y,marker='x')\n",
    "plt.ylabel(\"y\")\n",
    "plt.xlabel(\"x\")\n",
    "plt.show()"
   ]
  },
  {
   "cell_type": "code",
   "execution_count": 79,
   "id": "a1ceaae3",
   "metadata": {},
   "outputs": [],
   "source": [
    "E = Y - Y_hat\n",
    "E_abs = abs(Y - Y_hat)\n",
    "E_sq = E ** 2"
   ]
  },
  {
   "cell_type": "code",
   "execution_count": 77,
   "id": "962f3511",
   "metadata": {},
   "outputs": [],
   "source": [
    "mse,mae = [],[]\n",
    "for i in range(1,len(X)+1):\n",
    "    mse.append(E_sq[:i].mean())\n",
    "    mae.append(E_abs[:i].mean())"
   ]
  },
  {
   "cell_type": "code",
   "execution_count": 83,
   "id": "3492363e",
   "metadata": {},
   "outputs": [
    {
     "data": {
      "text/html": [
       "<div>\n",
       "<style scoped>\n",
       "    .dataframe tbody tr th:only-of-type {\n",
       "        vertical-align: middle;\n",
       "    }\n",
       "\n",
       "    .dataframe tbody tr th {\n",
       "        vertical-align: top;\n",
       "    }\n",
       "\n",
       "    .dataframe thead th {\n",
       "        text-align: right;\n",
       "    }\n",
       "</style>\n",
       "<table border=\"1\" class=\"dataframe\">\n",
       "  <thead>\n",
       "    <tr style=\"text-align: right;\">\n",
       "      <th></th>\n",
       "      <th>x</th>\n",
       "      <th>y</th>\n",
       "      <th>y_hat</th>\n",
       "      <th>error</th>\n",
       "      <th>squared error</th>\n",
       "      <th>mSE</th>\n",
       "      <th>mAE</th>\n",
       "    </tr>\n",
       "  </thead>\n",
       "  <tbody>\n",
       "    <tr>\n",
       "      <th>0</th>\n",
       "      <td>14</td>\n",
       "      <td>2</td>\n",
       "      <td>3.4049</td>\n",
       "      <td>-1.4049</td>\n",
       "      <td>1.973744</td>\n",
       "      <td>1.973744</td>\n",
       "      <td>1.404900</td>\n",
       "    </tr>\n",
       "    <tr>\n",
       "      <th>1</th>\n",
       "      <td>16</td>\n",
       "      <td>5</td>\n",
       "      <td>3.8925</td>\n",
       "      <td>1.1075</td>\n",
       "      <td>1.226556</td>\n",
       "      <td>1.600150</td>\n",
       "      <td>1.256200</td>\n",
       "    </tr>\n",
       "    <tr>\n",
       "      <th>2</th>\n",
       "      <td>27</td>\n",
       "      <td>7</td>\n",
       "      <td>6.5743</td>\n",
       "      <td>0.4257</td>\n",
       "      <td>0.181220</td>\n",
       "      <td>1.127174</td>\n",
       "      <td>0.979367</td>\n",
       "    </tr>\n",
       "    <tr>\n",
       "      <th>3</th>\n",
       "      <td>42</td>\n",
       "      <td>9</td>\n",
       "      <td>10.2313</td>\n",
       "      <td>-1.2313</td>\n",
       "      <td>1.516100</td>\n",
       "      <td>1.224405</td>\n",
       "      <td>1.042350</td>\n",
       "    </tr>\n",
       "    <tr>\n",
       "      <th>4</th>\n",
       "      <td>39</td>\n",
       "      <td>10</td>\n",
       "      <td>9.4999</td>\n",
       "      <td>0.5001</td>\n",
       "      <td>0.250100</td>\n",
       "      <td>1.029544</td>\n",
       "      <td>0.933900</td>\n",
       "    </tr>\n",
       "    <tr>\n",
       "      <th>5</th>\n",
       "      <td>50</td>\n",
       "      <td>13</td>\n",
       "      <td>12.1817</td>\n",
       "      <td>0.8183</td>\n",
       "      <td>0.669615</td>\n",
       "      <td>0.969556</td>\n",
       "      <td>0.914633</td>\n",
       "    </tr>\n",
       "    <tr>\n",
       "      <th>6</th>\n",
       "      <td>83</td>\n",
       "      <td>20</td>\n",
       "      <td>20.2271</td>\n",
       "      <td>-0.2271</td>\n",
       "      <td>0.051574</td>\n",
       "      <td>0.838416</td>\n",
       "      <td>0.816414</td>\n",
       "    </tr>\n",
       "  </tbody>\n",
       "</table>\n",
       "</div>"
      ],
      "text/plain": [
       "    x   y    y_hat   error  squared error       mSE       mAE\n",
       "0  14   2   3.4049 -1.4049       1.973744  1.973744  1.404900\n",
       "1  16   5   3.8925  1.1075       1.226556  1.600150  1.256200\n",
       "2  27   7   6.5743  0.4257       0.181220  1.127174  0.979367\n",
       "3  42   9  10.2313 -1.2313       1.516100  1.224405  1.042350\n",
       "4  39  10   9.4999  0.5001       0.250100  1.029544  0.933900\n",
       "5  50  13  12.1817  0.8183       0.669615  0.969556  0.914633\n",
       "6  83  20  20.2271 -0.2271       0.051574  0.838416  0.816414"
      ]
     },
     "execution_count": 83,
     "metadata": {},
     "output_type": "execute_result"
    }
   ],
   "source": [
    "df = pd.DataFrame({'x':X,'y':Y,'y_hat':Y_hat,'error': E, 'squared error': E_sq,'mSE': mse, 'mAE': mae})\n",
    "df"
   ]
  },
  {
   "cell_type": "code",
   "execution_count": 84,
   "id": "e6afde3b",
   "metadata": {},
   "outputs": [],
   "source": [
    "df.to_csv('lab1_task2.csv', index=False)"
   ]
  }
 ],
 "metadata": {
  "kernelspec": {
   "display_name": "Python 3 (ipykernel)",
   "language": "python",
   "name": "python3"
  },
  "language_info": {
   "codemirror_mode": {
    "name": "ipython",
    "version": 3
   },
   "file_extension": ".py",
   "mimetype": "text/x-python",
   "name": "python",
   "nbconvert_exporter": "python",
   "pygments_lexer": "ipython3",
   "version": "3.9.7"
  }
 },
 "nbformat": 4,
 "nbformat_minor": 5
}

{
 "cells": [
  {
   "cell_type": "code",
   "execution_count": 33,
   "id": "89370514",
   "metadata": {},
   "outputs": [],
   "source": [
    "import tensorflow as tf"
   ]
  },
  {
   "cell_type": "code",
   "execution_count": 34,
   "id": "b3fb66a2",
   "metadata": {},
   "outputs": [
    {
     "name": "stdout",
     "output_type": "stream",
     "text": [
      "tf.Tensor([ 3  7  3  2 14 20], shape=(6,), dtype=int32)\n",
      "tf.Tensor([ 5  6  7 10 82 19], shape=(6,), dtype=int32)\n"
     ]
    }
   ],
   "source": [
    "a = tf.constant([3,7,3,2,14,20])\n",
    "b = tf.constant([5,6,7,10,82,19])\n",
    "print(a)\n",
    "print(b)"
   ]
  },
  {
   "cell_type": "code",
   "execution_count": 8,
   "id": "62428148",
   "metadata": {},
   "outputs": [],
   "source": [
    "# Multiply\n",
    "mult_ab = tf.multiply(a, b)\n"
   ]
  },
  {
   "cell_type": "code",
   "execution_count": 10,
   "id": "7bcd6354",
   "metadata": {},
   "outputs": [],
   "source": [
    "# Dot product\n",
    "dot_ab = tf.tensordot(a, b, 1)"
   ]
  },
  {
   "cell_type": "code",
   "execution_count": 21,
   "id": "bd641042",
   "metadata": {},
   "outputs": [],
   "source": [
    "# Matrix\n",
    "m1 = tf.reshape(a,[2,3])\n",
    "m2 = tf.reshape(b,[3,2])"
   ]
  },
  {
   "cell_type": "code",
   "execution_count": 22,
   "id": "86ae9e8e",
   "metadata": {},
   "outputs": [
    {
     "data": {
      "text/plain": [
       "(<tf.Tensor: shape=(2, 3), dtype=int32, numpy=\n",
       " array([[ 3,  7,  3],\n",
       "        [ 2, 14, 20]], dtype=int32)>,\n",
       " <tf.Tensor: shape=(3, 2), dtype=int32, numpy=\n",
       " array([[ 5,  6],\n",
       "        [ 7, 10],\n",
       "        [82, 19]], dtype=int32)>)"
      ]
     },
     "execution_count": 22,
     "metadata": {},
     "output_type": "execute_result"
    }
   ],
   "source": [
    "m1,m2"
   ]
  },
  {
   "cell_type": "code",
   "execution_count": 25,
   "id": "32a2eaa4",
   "metadata": {},
   "outputs": [
    {
     "data": {
      "text/plain": [
       "<tf.Tensor: shape=(2, 2), dtype=int32, numpy=\n",
       "array([[ 310,  145],\n",
       "       [1748,  532]], dtype=int32)>"
      ]
     },
     "execution_count": 25,
     "metadata": {},
     "output_type": "execute_result"
    }
   ],
   "source": [
    "tf.matmul(m1,m2)"
   ]
  },
  {
   "cell_type": "code",
   "execution_count": 32,
   "id": "a958d1e6",
   "metadata": {},
   "outputs": [
    {
     "data": {
      "text/plain": [
       "<tf.Tensor: shape=(7, 7), dtype=float64, numpy=\n",
       "array([[ 1.40000000e+01,  2.00000000e+00,  3.40490000e+00,\n",
       "        -1.40490000e+00,  1.97374401e+00,  1.97374401e+00,\n",
       "         1.40490000e+00],\n",
       "       [ 1.60000000e+01,  5.00000000e+00,  3.89250000e+00,\n",
       "         1.10750000e+00,  1.22655625e+00,  1.60015013e+00,\n",
       "         1.25620000e+00],\n",
       "       [ 2.70000000e+01,  7.00000000e+00,  6.57430000e+00,\n",
       "         4.25700000e-01,  1.81220490e-01,  1.12717358e+00,\n",
       "         9.79366667e-01],\n",
       "       [ 4.20000000e+01,  9.00000000e+00,  1.02313000e+01,\n",
       "        -1.23130000e+00,  1.51609969e+00,  1.22440511e+00,\n",
       "         1.04235000e+00],\n",
       "       [ 3.90000000e+01,  1.00000000e+01,  9.49990000e+00,\n",
       "         5.00100000e-01,  2.50100010e-01,  1.02954409e+00,\n",
       "         9.33900000e-01],\n",
       "       [ 5.00000000e+01,  1.30000000e+01,  1.21817000e+01,\n",
       "         8.18300000e-01,  6.69614890e-01,  9.69555890e-01,\n",
       "         9.14633333e-01],\n",
       "       [ 8.30000000e+01,  2.00000000e+01,  2.02271000e+01,\n",
       "        -2.27100000e-01,  5.15744100e-02,  8.38415679e-01,\n",
       "         8.16414286e-01]])>"
      ]
     },
     "execution_count": 32,
     "metadata": {},
     "output_type": "execute_result"
    }
   ],
   "source": [
    "import pandas as pd\n",
    "data=pd.read_csv('lab1_task2.csv')\n",
    "data=tf.convert_to_tensor(data)\n",
    "data"
   ]
  },
  {
   "cell_type": "code",
   "execution_count": 27,
   "id": "ffa5e04a",
   "metadata": {},
   "outputs": [],
   "source": [
    "import numpy as np\n",
    "import tensorflow.experimental.numpy as tnp\n"
   ]
  },
  {
   "cell_type": "code",
   "execution_count": 30,
   "id": "d6e20c74",
   "metadata": {},
   "outputs": [
    {
     "name": "stdout",
     "output_type": "stream",
     "text": [
      "Created ND array with shape = (5, 3), rank = 2, dtype = <dtype: 'float32'>\n"
     ]
    }
   ],
   "source": [
    "tnp.experimental_enable_numpy_behavior()\n",
    "ones = tnp.ones([5, 3], dtype=tnp.float32)\n",
    "print(\"Created ND array with shape = %s, rank = %s, \"\n",
    "      \"dtype = %s\" % (\n",
    "          ones.shape, ones.ndim, ones.dtype))"
   ]
  }
 ],
 "metadata": {
  "kernelspec": {
   "display_name": "Python 3 (ipykernel)",
   "language": "python",
   "name": "python3"
  },
  "language_info": {
   "codemirror_mode": {
    "name": "ipython",
    "version": 3
   },
   "file_extension": ".py",
   "mimetype": "text/x-python",
   "name": "python",
   "nbconvert_exporter": "python",
   "pygments_lexer": "ipython3",
   "version": "3.9.7"
  }
 },
 "nbformat": 4,
 "nbformat_minor": 5
}

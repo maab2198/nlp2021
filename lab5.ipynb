{
  "nbformat": 4,
  "nbformat_minor": 0,
  "metadata": {
    "colab": {
      "name": "lab5.ipynb",
      "provenance": [],
      "collapsed_sections": [],
      "authorship_tag": "ABX9TyNJBN3tOfSEtUeIyJ1baW7m",
      "include_colab_link": true
    },
    "kernelspec": {
      "name": "python3",
      "display_name": "Python 3"
    },
    "language_info": {
      "name": "python"
    }
  },
  "cells": [
    {
      "cell_type": "markdown",
      "metadata": {
        "id": "view-in-github",
        "colab_type": "text"
      },
      "source": [
        "<a href=\"https://colab.research.google.com/github/maab2198/nlp2021/blob/labs/lab5.ipynb\" target=\"_parent\"><img src=\"https://colab.research.google.com/assets/colab-badge.svg\" alt=\"Open In Colab\"/></a>"
      ]
    },
    {
      "cell_type": "code",
      "metadata": {
        "colab": {
          "base_uri": "https://localhost:8080/"
        },
        "id": "W-5b2dRNC9KO",
        "outputId": "d1c1e0cc-cc55-4e2e-f229-c5b2745d953f"
      },
      "source": [
        "from google.colab import drive\n",
        "drive.mount('/content/drive')"
      ],
      "execution_count": 2,
      "outputs": [
        {
          "output_type": "stream",
          "name": "stdout",
          "text": [
            "Mounted at /content/drive\n"
          ]
        }
      ]
    },
    {
      "cell_type": "code",
      "metadata": {
        "id": "9_dGZw9uE5v_"
      },
      "source": [
        "import pandas as pd\n",
        "import random\n",
        "import tensorflow as tf \n",
        "from matplotlib import pyplot as plt\n",
        "from tensorflow.keras import layers\n",
        "\n",
        "from tensorflow.keras.layers.experimental.preprocessing import TextVectorization\n",
        "from tensorflow.keras.layers import Embedding\n",
        "from tensorflow.keras import Sequential\n",
        "from sklearn.model_selection import train_test_split"
      ],
      "execution_count": 3,
      "outputs": []
    },
    {
      "cell_type": "code",
      "metadata": {
        "id": "s-cmRspoHkDV"
      },
      "source": [
        "# Create tensorboard callback (need to create a new one for each model)\n",
        "from helper_functions import create_tensorboard_callback"
      ],
      "execution_count": null,
      "outputs": []
    },
    {
      "cell_type": "code",
      "metadata": {
        "id": "m39ELv5SDdD2"
      },
      "source": [
        "path = \"drive/My Drive/nlp/lab5/\""
      ],
      "execution_count": 4,
      "outputs": []
    },
    {
      "cell_type": "code",
      "metadata": {
        "id": "0UE8h_AXINYU"
      },
      "source": [
        "\n",
        "from sklearn.metrics import accuracy_score, precision_recall_fscore_support\n",
        "# Plot the validation and training data separately\n",
        "import matplotlib.pyplot as plt\n",
        "\n",
        "def calculate_results(y_true, y_pred):\n",
        "  \"\"\"\n",
        "  Calculates model accuracy, precision, recall and f1 score of a binary classification model.\n",
        "\n",
        "  Args:\n",
        "  -----\n",
        "  y_true = true labels in the form of a 1D array\n",
        "  y_pred = predicted labels in the form of a 1D array\n",
        "\n",
        "  Returns a dictionary of accuracy, precision, recall, f1-score.\n",
        "  \"\"\"\n",
        "  # Calculate model accuracy\n",
        "  model_accuracy = accuracy_score(y_true, y_pred) * 100\n",
        "  # Calculate model precision, recall and f1 score using \"weighted\" average\n",
        "  model_precision, model_recall, model_f1, _ = precision_recall_fscore_support(y_true, y_pred, average=\"weighted\")\n",
        "  model_results = {\"accuracy\": model_accuracy,\n",
        "                  \"precision\": model_precision,\n",
        "                  \"recall\": model_recall,\n",
        "                  \"f1\": model_f1}\n",
        "  return model_results\n",
        "  \n",
        "\n",
        "def plot_history(history): \n",
        "    plt.plot(history.history['accuracy'])\n",
        "    plt.plot(history.history['val_accuracy'])\n",
        "    plt.title('model accuracy')\n",
        "    plt.ylabel('accuracy')\n",
        "    plt.xlabel('epoch')\n",
        "    plt.legend(['train', 'val'], loc='upper left')\n",
        "    plt.show()\n",
        "    plt.plot(history.history['loss'])\n",
        "    plt.plot(history.history['val_loss'])\n",
        "    plt.title('model loss')\n",
        "    plt.ylabel('loss')\n",
        "    plt.xlabel('epoch')\n",
        "    plt.legend(['train', 'val'], loc='upper left')\n",
        "    plt.show()\n",
        "\n",
        "def compare_baseline_to_new_results(baseline_results, new_model_results):\n",
        "  for key, value in baseline_results.items():\n",
        "    print(f\"Baseline {key}: {value:.2f}, New {key}: {new_model_results[key]:.2f}, Difference: {new_model_results[key]-value:.2f}\")\n"
      ],
      "execution_count": 5,
      "outputs": []
    },
    {
      "cell_type": "markdown",
      "metadata": {
        "id": "ezBY1dTLFCb3"
      },
      "source": [
        "Get text data"
      ]
    },
    {
      "cell_type": "code",
      "metadata": {
        "colab": {
          "base_uri": "https://localhost:8080/",
          "height": 362
        },
        "id": "1VC_xltcFBg7",
        "outputId": "06157fe7-02b1-40f6-dba1-f9ec5266225e"
      },
      "source": [
        "siameseData = pd.read_csv(path + \"siamese_nn.csv\")\n",
        "emotionData = pd.read_csv(path  + \"emotion_recognition.csv\",sep=\";\")\n",
        "covidData = pd.read_csv(path + \"coranavirus_disease.csv\",sep=\";\")\n",
        "covidData[\"target\"] = 2\n",
        "emotionData[\"target\"] = 0\n",
        "train_df = pd.concat([emotionData,covidData, siameseData], ignore_index=True )\n",
        "train_shuffle=train_df.sample(frac=1,random_state=9) \n",
        "train_shuffle.head(10)"
      ],
      "execution_count": 6,
      "outputs": [
        {
          "output_type": "execute_result",
          "data": {
            "text/html": [
              "<div>\n",
              "<style scoped>\n",
              "    .dataframe tbody tr th:only-of-type {\n",
              "        vertical-align: middle;\n",
              "    }\n",
              "\n",
              "    .dataframe tbody tr th {\n",
              "        vertical-align: top;\n",
              "    }\n",
              "\n",
              "    .dataframe thead th {\n",
              "        text-align: right;\n",
              "    }\n",
              "</style>\n",
              "<table border=\"1\" class=\"dataframe\">\n",
              "  <thead>\n",
              "    <tr style=\"text-align: right;\">\n",
              "      <th></th>\n",
              "      <th>text</th>\n",
              "      <th>target</th>\n",
              "    </tr>\n",
              "  </thead>\n",
              "  <tbody>\n",
              "    <tr>\n",
              "      <th>39</th>\n",
              "      <td>In order to demonstrate the high effectivennes...</td>\n",
              "      <td>0</td>\n",
              "    </tr>\n",
              "    <tr>\n",
              "      <th>38</th>\n",
              "      <td>In this experimental work, we have used Multiv...</td>\n",
              "      <td>0</td>\n",
              "    </tr>\n",
              "    <tr>\n",
              "      <th>183</th>\n",
              "      <td>Hao has constructed the ensemble predictor of ...</td>\n",
              "      <td>2</td>\n",
              "    </tr>\n",
              "    <tr>\n",
              "      <th>13</th>\n",
              "      <td>. After the last convolutional layer we divide...</td>\n",
              "      <td>0</td>\n",
              "    </tr>\n",
              "    <tr>\n",
              "      <th>90</th>\n",
              "      <td>Speech is the main and direct means of transmi...</td>\n",
              "      <td>0</td>\n",
              "    </tr>\n",
              "    <tr>\n",
              "      <th>165</th>\n",
              "      <td>Region-wise this distribution depicts total de...</td>\n",
              "      <td>2</td>\n",
              "    </tr>\n",
              "    <tr>\n",
              "      <th>44</th>\n",
              "      <td>. It contains 535 utterances spoken by 10 acto...</td>\n",
              "      <td>0</td>\n",
              "    </tr>\n",
              "    <tr>\n",
              "      <th>4</th>\n",
              "      <td>The main advantage of DL is the fact that it r...</td>\n",
              "      <td>0</td>\n",
              "    </tr>\n",
              "    <tr>\n",
              "      <th>57</th>\n",
              "      <td>The researchers are still debating for what fe...</td>\n",
              "      <td>0</td>\n",
              "    </tr>\n",
              "    <tr>\n",
              "      <th>149</th>\n",
              "      <td>In addition, the introduced method learns to g...</td>\n",
              "      <td>2</td>\n",
              "    </tr>\n",
              "  </tbody>\n",
              "</table>\n",
              "</div>"
            ],
            "text/plain": [
              "                                                  text  target\n",
              "39   In order to demonstrate the high effectivennes...       0\n",
              "38   In this experimental work, we have used Multiv...       0\n",
              "183  Hao has constructed the ensemble predictor of ...       2\n",
              "13   . After the last convolutional layer we divide...       0\n",
              "90   Speech is the main and direct means of transmi...       0\n",
              "165  Region-wise this distribution depicts total de...       2\n",
              "44   . It contains 535 utterances spoken by 10 acto...       0\n",
              "4    The main advantage of DL is the fact that it r...       0\n",
              "57   The researchers are still debating for what fe...       0\n",
              "149  In addition, the introduced method learns to g...       2"
            ]
          },
          "metadata": {},
          "execution_count": 6
        }
      ]
    },
    {
      "cell_type": "code",
      "metadata": {
        "id": "aSbSaYMhFVhG"
      },
      "source": [
        "train_sentences, test_sentences, train_labels,test_labels = train_test_split(\n",
        "    train_shuffle['text'].to_numpy(),\n",
        "    train_shuffle['target'].to_numpy(),\n",
        "    test_size=0.1, \n",
        "    random_state=40\n",
        ")\n",
        "max_sq_len = round(sum([len(i.split()) for i in train_sentences])/len(train_sentences))\n",
        "text_vectorizer = TextVectorization(max_tokens=10000,  #number of word in vocabulary\n",
        "                                    standardize=\"lower_and_strip_punctuation\", \n",
        "                                    split =\"whitespace\",\n",
        "                                    output_mode=\"int\",\n",
        "                                    output_sequence_length=max_sq_len,\n",
        "                                    pad_to_max_tokens=True)\n"
      ],
      "execution_count": 7,
      "outputs": []
    },
    {
      "cell_type": "code",
      "metadata": {
        "id": "qB8j6zq0G7e8"
      },
      "source": [
        "from sklearn.feature_extraction.text import TfidfVectorizer\n",
        "from sklearn.naive_bayes import MultinomialNB\n",
        "from sklearn.pipeline import Pipeline\n",
        "model_0= Pipeline([ \n",
        "    (\"tfidf\",TfidfVectorizer()), \n",
        "    (\"clf\", MultinomialNB())\n",
        "])\n",
        "model_0.fit(train_sentences,train_labels)\n",
        "model_0_preds =model_0.predict(test_sentences)\n",
        "model_0_results = calculate_results(test_labels,model_0_preds)"
      ],
      "execution_count": 8,
      "outputs": []
    },
    {
      "cell_type": "markdown",
      "metadata": {
        "id": "aXzmDskzFavG"
      },
      "source": [
        "\n",
        "## Model 6: TensorFlow Hub Pretrained Sentence Encoder"
      ]
    },
    {
      "cell_type": "code",
      "metadata": {
        "id": "THokKVxTHi4m"
      },
      "source": [
        "url= \"https://tfhub.dev/google/universal-sentence-encoder/4\""
      ],
      "execution_count": 9,
      "outputs": []
    },
    {
      "cell_type": "code",
      "metadata": {
        "id": "JN_gcmkqEj42"
      },
      "source": [
        "# Example of pretrained embedding with universal sentence encoder - https://tfhub.dev/google/universal-sentence-encoder/4\n",
        "import tensorflow_hub as hub\n",
        "\n",
        "sentence_encoder_layer = hub.KerasLayer(url,\n",
        "                                        input_shape=[], # shape of inputs coming to our model \n",
        "                                        dtype=tf.string, # data type of inputs coming to the USE layer\n",
        "                                        trainable=False, # keep the pretrained weights (we'll create a feature extractor)\n",
        "                                        name=\"USE\") \n"
      ],
      "execution_count": 10,
      "outputs": []
    },
    {
      "cell_type": "code",
      "metadata": {
        "id": "eY09es_OEpzV"
      },
      "source": [
        "model_6 = tf.keras.Sequential([\n",
        "  sentence_encoder_layer, \n",
        "  layers.Dense(3, activation=\"softmax\")\n",
        "], name=\"model_6_USE\")"
      ],
      "execution_count": 11,
      "outputs": []
    },
    {
      "cell_type": "code",
      "metadata": {
        "colab": {
          "base_uri": "https://localhost:8080/"
        },
        "id": "ujZaPJJ_GJW_",
        "outputId": "da1759cd-f3d1-4183-c22f-d4227326d3c9"
      },
      "source": [
        "model_6.compile(loss=\"sparse_categorical_crossentropy\",\n",
        "                optimizer=tf.keras.optimizers.Adam(),\n",
        "                metrics=[\"accuracy\"])\n",
        "\n",
        "model_6.summary()"
      ],
      "execution_count": 12,
      "outputs": [
        {
          "output_type": "stream",
          "name": "stdout",
          "text": [
            "Model: \"model_6_USE\"\n",
            "_________________________________________________________________\n",
            " Layer (type)                Output Shape              Param #   \n",
            "=================================================================\n",
            " USE (KerasLayer)            (None, 512)               256797824 \n",
            "                                                                 \n",
            " dense (Dense)               (None, 3)                 1539      \n",
            "                                                                 \n",
            "=================================================================\n",
            "Total params: 256,799,363\n",
            "Trainable params: 1,539\n",
            "Non-trainable params: 256,797,824\n",
            "_________________________________________________________________\n"
          ]
        }
      ]
    },
    {
      "cell_type": "code",
      "metadata": {
        "colab": {
          "base_uri": "https://localhost:8080/"
        },
        "id": "7MX8tyrwGf66",
        "outputId": "6b1c6472-3aa0-477a-bf55-b3f5b4d8ed46"
      },
      "source": [
        "model_6_history = model_6.fit(train_sentences,\n",
        "                              train_labels,\n",
        "                              epochs=5,\n",
        "                              validation_data=(test_sentences, test_labels))"
      ],
      "execution_count": 13,
      "outputs": [
        {
          "output_type": "stream",
          "name": "stdout",
          "text": [
            "Epoch 1/5\n",
            "9/9 [==============================] - 3s 78ms/step - loss: 1.1072 - accuracy: 0.2704 - val_loss: 1.0893 - val_accuracy: 0.2333\n",
            "Epoch 2/5\n",
            "9/9 [==============================] - 0s 16ms/step - loss: 1.0810 - accuracy: 0.5037 - val_loss: 1.0686 - val_accuracy: 0.4333\n",
            "Epoch 3/5\n",
            "9/9 [==============================] - 0s 16ms/step - loss: 1.0566 - accuracy: 0.6444 - val_loss: 1.0477 - val_accuracy: 0.5667\n",
            "Epoch 4/5\n",
            "9/9 [==============================] - 0s 15ms/step - loss: 1.0331 - accuracy: 0.7296 - val_loss: 1.0276 - val_accuracy: 0.7000\n",
            "Epoch 5/5\n",
            "9/9 [==============================] - 0s 17ms/step - loss: 1.0103 - accuracy: 0.8037 - val_loss: 1.0081 - val_accuracy: 0.7333\n"
          ]
        }
      ]
    },
    {
      "cell_type": "code",
      "metadata": {
        "colab": {
          "base_uri": "https://localhost:8080/",
          "height": 573
        },
        "id": "-BBK8go1GpPw",
        "outputId": "cdc8d826-7e25-4cb1-bce9-923df93377c9"
      },
      "source": [
        "plot_history(model_6_history)"
      ],
      "execution_count": 14,
      "outputs": [
        {
          "output_type": "display_data",
          "data": {
            "image/png": "[encoded data removed]",
            "text/plain": [
              "<Figure size 432x288 with 1 Axes>"
            ]
          },
          "metadata": {
            "needs_background": "light"
          }
        },
        {
          "output_type": "display_data",
          "data": {
            "image/png": "[encoded data removed]",
            "text/plain": [
              "<Figure size 432x288 with 1 Axes>"
            ]
          },
          "metadata": {
            "needs_background": "light"
          }
        }
      ]
    },
    {
      "cell_type": "code",
      "metadata": {
        "colab": {
          "base_uri": "https://localhost:8080/"
        },
        "id": "u-VUyBLdIcSa",
        "outputId": "6a34cdd0-bdf7-41fc-efaa-626915537d8a"
      },
      "source": [
        "model_6_pred_probs = model_6.predict(test_sentences)\n",
        "model_6_preds = tf.squeeze(tf.argmax(model_6_pred_probs, axis = 1))\n",
        "model_6_preds"
      ],
      "execution_count": 15,
      "outputs": [
        {
          "output_type": "execute_result",
          "data": {
            "text/plain": [
              "<tf.Tensor: shape=(30,), dtype=int64, numpy=\n",
              "array([0, 1, 1, 1, 2, 0, 2, 0, 2, 0, 2, 2, 0, 1, 2, 1, 0, 2, 1, 1, 1, 2,\n",
              "       1, 1, 1, 2, 0, 2, 1, 1])>"
            ]
          },
          "metadata": {},
          "execution_count": 15
        }
      ]
    },
    {
      "cell_type": "code",
      "metadata": {
        "colab": {
          "base_uri": "https://localhost:8080/"
        },
        "id": "uzjavep1IgNX",
        "outputId": "60d294ca-76a7-4100-8567-7eeafa3b0147"
      },
      "source": [
        "model_6_results = calculate_results(y_true = test_labels, y_pred = model_6_preds)\n",
        "compare_baseline_to_new_results(model_0_results, model_6_results)"
      ],
      "execution_count": 16,
      "outputs": [
        {
          "output_type": "stream",
          "name": "stdout",
          "text": [
            "Baseline accuracy: 96.67, New accuracy: 73.33, Difference: -23.33\n",
            "Baseline precision: 0.97, New precision: 0.78, Difference: -0.19\n",
            "Baseline recall: 0.97, New recall: 0.73, Difference: -0.23\n",
            "Baseline f1: 0.97, New f1: 0.74, Difference: -0.23\n"
          ]
        }
      ]
    },
    {
      "cell_type": "markdown",
      "metadata": {
        "id": "c5QsrnzzIwGd"
      },
      "source": [
        "### Model 7: TensorFlow Hub "
      ]
    },
    {
      "cell_type": "code",
      "metadata": {
        "id": "Wb4xnoFTIzUc"
      },
      "source": [
        "tf_hub_embedding_layer = hub.KerasLayer(url,\n",
        "                                        input_shape=[],\n",
        "                                        dtype=tf.string, \n",
        "                                        trainable=True, \n",
        "                                        name=\"USE-FT\")"
      ],
      "execution_count": 18,
      "outputs": []
    },
    {
      "cell_type": "code",
      "metadata": {
        "colab": {
          "base_uri": "https://localhost:8080/"
        },
        "id": "-d2JEiGoJU3M",
        "outputId": "8085c7d2-540a-46f1-8009-6a1e340bc5c3"
      },
      "source": [
        "model_7 = tf.keras.Sequential([\n",
        "  tf_hub_embedding_layer, \n",
        "  layers.Dense(64, activation=\"relu\"),\n",
        "  layers.Dense(3, activation=\"softmax\")\n",
        "], name=\"model_7_USE_fine_tuning\")\n",
        "\n",
        "# Compile model\n",
        "model_7.compile(loss=\"sparse_categorical_crossentropy\",\n",
        "                optimizer=tf.keras.optimizers.Adam(),\n",
        "                metrics=[\"accuracy\"])\n",
        "\n",
        "\n",
        "model_7.summary()"
      ],
      "execution_count": 19,
      "outputs": [
        {
          "output_type": "stream",
          "name": "stdout",
          "text": [
            "Model: \"model_7_USE_fine_tuning\"\n",
            "_________________________________________________________________\n",
            " Layer (type)                Output Shape              Param #   \n",
            "=================================================================\n",
            " USE-FT (KerasLayer)         (None, 512)               256797824 \n",
            "                                                                 \n",
            " dense_1 (Dense)             (None, 64)                32832     \n",
            "                                                                 \n",
            " dense_2 (Dense)             (None, 3)                 195       \n",
            "                                                                 \n",
            "=================================================================\n",
            "Total params: 256,830,851\n",
            "Trainable params: 256,830,851\n",
            "Non-trainable params: 0\n",
            "_________________________________________________________________\n"
          ]
        }
      ]
    },
    {
      "cell_type": "code",
      "metadata": {
        "colab": {
          "base_uri": "https://localhost:8080/"
        },
        "id": "TeNv2r1sJkY8",
        "outputId": "908ca49d-d7bd-4eea-c9b4-4789adb8854f"
      },
      "source": [
        "model_7_history=model_7.fit(train_sentences,train_labels,\n",
        "                            epochs=5,\n",
        "                            validation_data=(test_sentences,test_labels)\n",
        "                            )"
      ],
      "execution_count": 20,
      "outputs": [
        {
          "output_type": "stream",
          "name": "stdout",
          "text": [
            "Epoch 1/5\n",
            "9/9 [==============================] - 28s 2s/step - loss: 1.0524 - accuracy: 0.5074 - val_loss: 0.9794 - val_accuracy: 0.6667\n",
            "Epoch 2/5\n",
            "9/9 [==============================] - 21s 2s/step - loss: 0.8623 - accuracy: 0.7704 - val_loss: 0.8360 - val_accuracy: 0.7333\n",
            "Epoch 3/5\n",
            "9/9 [==============================] - 21s 2s/step - loss: 0.6259 - accuracy: 0.9444 - val_loss: 0.6795 - val_accuracy: 0.8000\n",
            "Epoch 4/5\n",
            "9/9 [==============================] - 21s 2s/step - loss: 0.3640 - accuracy: 0.9704 - val_loss: 0.5343 - val_accuracy: 0.8333\n",
            "Epoch 5/5\n",
            "9/9 [==============================] - 21s 2s/step - loss: 0.1700 - accuracy: 0.9926 - val_loss: 0.4516 - val_accuracy: 0.7667\n"
          ]
        }
      ]
    },
    {
      "cell_type": "code",
      "metadata": {
        "colab": {
          "base_uri": "https://localhost:8080/",
          "height": 573
        },
        "id": "x0FCmbhrJrny",
        "outputId": "aa1eb87a-b816-4490-87ed-c0fc061664d6"
      },
      "source": [
        "plot_history(model_7_history)"
      ],
      "execution_count": 21,
      "outputs": [
        {
          "output_type": "display_data",
          "data": {
            "image/png": "[encoded data removed]",
            "text/plain": [
              "<Figure size 432x288 with 1 Axes>"
            ]
          },
          "metadata": {
            "needs_background": "light"
          }
        },
        {
          "output_type": "display_data",
          "data": {
            "image/png": "[encoded data removed]",
            "text/plain": [
              "<Figure size 432x288 with 1 Axes>"
            ]
          },
          "metadata": {
            "needs_background": "light"
          }
        }
      ]
    },
    {
      "cell_type": "code",
      "metadata": {
        "colab": {
          "base_uri": "https://localhost:8080/"
        },
        "id": "y4r7QJ4aJyqm",
        "outputId": "8af5bd71-13bf-406f-a5ca-129601b57b45"
      },
      "source": [
        "model_7_pred_probs = model_7.predict(test_sentences)\n",
        "model_7_preds = tf.squeeze(tf.argmax(model_7_pred_probs, axis = 1))\n",
        "model_7_results = calculate_results(y_true = test_labels, y_pred = model_7_preds)\n",
        "compare_baseline_to_new_results(model_0_results, model_7_results)"
      ],
      "execution_count": 22,
      "outputs": [
        {
          "output_type": "stream",
          "name": "stdout",
          "text": [
            "Baseline accuracy: 96.67, New accuracy: 76.67, Difference: -20.00\n",
            "Baseline precision: 0.97, New precision: 0.77, Difference: -0.20\n",
            "Baseline recall: 0.97, New recall: 0.77, Difference: -0.20\n",
            "Baseline f1: 0.97, New f1: 0.76, Difference: -0.20\n"
          ]
        }
      ]
    },
    {
      "cell_type": "code",
      "metadata": {
        "colab": {
          "base_uri": "https://localhost:8080/"
        },
        "id": "z1WT_LnxJ-6V",
        "outputId": "d0d9885b-22a9-4de5-9bae-9a514f02f499"
      },
      "source": [
        "for layer_number , layer in enumerate(model_7.layers):\n",
        "  print(layer_number, layer.name, layer.trainable)"
      ],
      "execution_count": 23,
      "outputs": [
        {
          "output_type": "stream",
          "name": "stdout",
          "text": [
            "0 USE-FT True\n",
            "1 dense_1 True\n",
            "2 dense_2 True\n"
          ]
        }
      ]
    },
    {
      "cell_type": "code",
      "metadata": {
        "colab": {
          "base_uri": "https://localhost:8080/"
        },
        "id": "PQrRF5XYKOOc",
        "outputId": "7eb91806-8b51-4ac3-b667-edf76af9cfcc"
      },
      "source": [
        "tf_hub_embedding_layer.trainable=False\n",
        "model_8 = tf.keras.Sequential([\n",
        "  tf_hub_embedding_layer, \n",
        "  layers.Dense(64, activation=\"relu\"),\n",
        "  layers.Dense(3, activation=\"softmax\")\n",
        "], name=\"model_8_USE_FT_Not_trainable\")\n",
        "\n",
        "\n",
        "model_8.compile(loss=\"sparse_categorical_crossentropy\",\n",
        "                optimizer=tf.keras.optimizers.Adam(),\n",
        "                metrics=[\"accuracy\"])\n",
        "\n",
        "\n",
        "model_8.summary()"
      ],
      "execution_count": 28,
      "outputs": [
        {
          "output_type": "stream",
          "name": "stdout",
          "text": [
            "Model: \"model_8_USE_FT_Not_trainable\"\n",
            "_________________________________________________________________\n",
            " Layer (type)                Output Shape              Param #   \n",
            "=================================================================\n",
            " USE-FT (KerasLayer)         (None, 512)               256797824 \n",
            "                                                                 \n",
            " dense_9 (Dense)             (None, 64)                32832     \n",
            "                                                                 \n",
            " dense_10 (Dense)            (None, 3)                 195       \n",
            "                                                                 \n",
            "=================================================================\n",
            "Total params: 256,830,851\n",
            "Trainable params: 33,027\n",
            "Non-trainable params: 256,797,824\n",
            "_________________________________________________________________\n"
          ]
        }
      ]
    },
    {
      "cell_type": "code",
      "metadata": {
        "colab": {
          "base_uri": "https://localhost:8080/"
        },
        "id": "cZIHjc5hKjRC",
        "outputId": "c4b38751-5f51-4330-a679-4fda822e8cc5"
      },
      "source": [
        "model_8_history = model_8.fit(train_sentences,train_labels,epochs=5,\n",
        "                        validation_data=(test_sentences,test_labels))"
      ],
      "execution_count": 29,
      "outputs": [
        {
          "output_type": "stream",
          "name": "stdout",
          "text": [
            "Epoch 1/5\n",
            "9/9 [==============================] - 2s 72ms/step - loss: 0.9685 - accuracy: 0.8704 - val_loss: 0.9081 - val_accuracy: 0.8333\n",
            "Epoch 2/5\n",
            "9/9 [==============================] - 0s 16ms/step - loss: 0.6672 - accuracy: 0.9963 - val_loss: 0.7261 - val_accuracy: 0.7667\n",
            "Epoch 3/5\n",
            "9/9 [==============================] - 0s 18ms/step - loss: 0.4097 - accuracy: 0.9963 - val_loss: 0.5863 - val_accuracy: 0.7667\n",
            "Epoch 4/5\n",
            "9/9 [==============================] - 0s 16ms/step - loss: 0.2353 - accuracy: 0.9963 - val_loss: 0.5014 - val_accuracy: 0.7667\n",
            "Epoch 5/5\n",
            "9/9 [==============================] - 0s 15ms/step - loss: 0.1377 - accuracy: 1.0000 - val_loss: 0.4564 - val_accuracy: 0.7667\n"
          ]
        }
      ]
    },
    {
      "cell_type": "code",
      "metadata": {
        "colab": {
          "base_uri": "https://localhost:8080/",
          "height": 573
        },
        "id": "uakWQtyvLCOd",
        "outputId": "a7edc12a-875d-4805-8331-cac06f86971b"
      },
      "source": [
        "plot_history(model_8_history)"
      ],
      "execution_count": 30,
      "outputs": [
        {
          "output_type": "display_data",
          "data": {
            "image/png": "[encoded data removed]",
            "text/plain": [
              "<Figure size 432x288 with 1 Axes>"
            ]
          },
          "metadata": {
            "needs_background": "light"
          }
        },
        {
          "output_type": "display_data",
          "data": {
            "image/png": "[encoded data removed]",
            "text/plain": [
              "<Figure size 432x288 with 1 Axes>"
            ]
          },
          "metadata": {
            "needs_background": "light"
          }
        }
      ]
    },
    {
      "cell_type": "code",
      "metadata": {
        "colab": {
          "base_uri": "https://localhost:8080/"
        },
        "id": "972SeKh1LFz-",
        "outputId": "244dc7b4-86d4-4c00-8b71-715cdd865d1f"
      },
      "source": [
        "model_8_pred_probs = model_8.predict(test_sentences)\n",
        "model_8_preds = tf.squeeze(tf.argmax(model_8_pred_probs, axis = 1))\n",
        "model_8_results = calculate_results(y_true = test_labels, y_pred = model_8_preds)\n",
        "compare_baseline_to_new_results(model_0_results, model_8_results)"
      ],
      "execution_count": 31,
      "outputs": [
        {
          "output_type": "stream",
          "name": "stdout",
          "text": [
            "Baseline accuracy: 96.67, New accuracy: 76.67, Difference: -20.00\n",
            "Baseline precision: 0.97, New precision: 0.77, Difference: -0.20\n",
            "Baseline recall: 0.97, New recall: 0.77, Difference: -0.20\n",
            "Baseline f1: 0.97, New f1: 0.76, Difference: -0.20\n"
          ]
        }
      ]
    },
    {
      "cell_type": "code",
      "metadata": {
        "colab": {
          "base_uri": "https://localhost:8080/",
          "height": 175
        },
        "id": "Ag8tY44WMWzw",
        "outputId": "efd1b71e-f20a-488f-e528-4d5bc6311c39"
      },
      "source": [
        "df_compare = pd.DataFrame({'BaseLine': model_0_results ,\n",
        "                           'USE': model_6_results ,\n",
        "                            'USE_FT' : model_7_results,\n",
        "                            'USE_FT_Not_trainable': model_8_results\n",
        "                           })\n",
        "df_compare"
      ],
      "execution_count": 32,
      "outputs": [
        {
          "output_type": "execute_result",
          "data": {
            "text/html": [
              "<div>\n",
              "<style scoped>\n",
              "    .dataframe tbody tr th:only-of-type {\n",
              "        vertical-align: middle;\n",
              "    }\n",
              "\n",
              "    .dataframe tbody tr th {\n",
              "        vertical-align: top;\n",
              "    }\n",
              "\n",
              "    .dataframe thead th {\n",
              "        text-align: right;\n",
              "    }\n",
              "</style>\n",
              "<table border=\"1\" class=\"dataframe\">\n",
              "  <thead>\n",
              "    <tr style=\"text-align: right;\">\n",
              "      <th></th>\n",
              "      <th>BaseLine</th>\n",
              "      <th>USE</th>\n",
              "      <th>USE_FT</th>\n",
              "      <th>USE_FT_Not_trainable</th>\n",
              "    </tr>\n",
              "  </thead>\n",
              "  <tbody>\n",
              "    <tr>\n",
              "      <th>accuracy</th>\n",
              "      <td>96.666667</td>\n",
              "      <td>73.333333</td>\n",
              "      <td>76.666667</td>\n",
              "      <td>76.666667</td>\n",
              "    </tr>\n",
              "    <tr>\n",
              "      <th>precision</th>\n",
              "      <td>0.969444</td>\n",
              "      <td>0.781795</td>\n",
              "      <td>0.774405</td>\n",
              "      <td>0.774405</td>\n",
              "    </tr>\n",
              "    <tr>\n",
              "      <th>recall</th>\n",
              "      <td>0.966667</td>\n",
              "      <td>0.733333</td>\n",
              "      <td>0.766667</td>\n",
              "      <td>0.766667</td>\n",
              "    </tr>\n",
              "    <tr>\n",
              "      <th>f1</th>\n",
              "      <td>0.966411</td>\n",
              "      <td>0.738122</td>\n",
              "      <td>0.762614</td>\n",
              "      <td>0.762614</td>\n",
              "    </tr>\n",
              "  </tbody>\n",
              "</table>\n",
              "</div>"
            ],
            "text/plain": [
              "            BaseLine        USE     USE_FT  USE_FT_Not_trainable\n",
              "accuracy   96.666667  73.333333  76.666667             76.666667\n",
              "precision   0.969444   0.781795   0.774405              0.774405\n",
              "recall      0.966667   0.733333   0.766667              0.766667\n",
              "f1          0.966411   0.738122   0.762614              0.762614"
            ]
          },
          "metadata": {},
          "execution_count": 32
        }
      ]
    }
  ]
}
{
  "nbformat": 4,
  "nbformat_minor": 0,
  "metadata": {
    "colab": {
      "name": "lab5.ipynb",
      "provenance": [],
      "collapsed_sections": [],
      "authorship_tag": "ABX9TyOi2/+IGaYm9V1ALbl/G/qC",
      "include_colab_link": true
    },
    "kernelspec": {
      "name": "python3",
      "display_name": "Python 3"
    },
    "language_info": {
      "name": "python"
    }
  },
  "cells": [
    {
      "cell_type": "markdown",
      "metadata": {
        "id": "view-in-github",
        "colab_type": "text"
      },
      "source": [
        "<a href=\"https://colab.research.google.com/github/maab2198/nlp2021/blob/labs/lab5/lab5.ipynb\" target=\"_parent\"><img src=\"https://colab.research.google.com/assets/colab-badge.svg\" alt=\"Open In Colab\"/></a>"
      ]
    },
    {
      "cell_type": "code",
      "metadata": {
        "colab": {
          "base_uri": "https://localhost:8080/"
        },
        "id": "W-5b2dRNC9KO",
        "outputId": "ab9d97ee-8fa6-4df6-cb22-f70a09635fcd"
      },
      "source": [
        "from google.colab import drive\n",
        "drive.mount('/content/drive')"
      ],
      "execution_count": 1,
      "outputs": [
        {
          "output_type": "stream",
          "name": "stdout",
          "text": [
            "Mounted at /content/drive\n"
          ]
        }
      ]
    },
    {
      "cell_type": "code",
      "metadata": {
        "id": "9_dGZw9uE5v_"
      },
      "source": [
        "import pandas as pd\n",
        "import random\n",
        "import tensorflow as tf \n",
        "from matplotlib import pyplot as plt\n",
        "from tensorflow.keras import layers\n",
        "\n",
        "from tensorflow.keras.layers.experimental.preprocessing import TextVectorization\n",
        "from tensorflow.keras.layers import Embedding\n",
        "from tensorflow.keras import Sequential\n",
        "from sklearn.model_selection import train_test_split"
      ],
      "execution_count": 14,
      "outputs": []
    },
    {
      "cell_type": "code",
      "metadata": {
        "id": "s-cmRspoHkDV"
      },
      "source": [
        "# Create tensorboard callback (need to create a new one for each model)\n",
        "from helper_functions import create_tensorboard_callback"
      ],
      "execution_count": null,
      "outputs": []
    },
    {
      "cell_type": "code",
      "metadata": {
        "id": "m39ELv5SDdD2"
      },
      "source": [
        "path = \"drive/My Drive/nlp/lab5/\""
      ],
      "execution_count": 6,
      "outputs": []
    },
    {
      "cell_type": "code",
      "metadata": {
        "id": "0UE8h_AXINYU"
      },
      "source": [
        "\n",
        "from sklearn.metrics import accuracy_score, precision_recall_fscore_support\n",
        "# Plot the validation and training data separately\n",
        "import matplotlib.pyplot as plt\n",
        "\n",
        "def calculate_results(y_true, y_pred):\n",
        "  \"\"\"\n",
        "  Calculates model accuracy, precision, recall and f1 score of a binary classification model.\n",
        "\n",
        "  Args:\n",
        "  -----\n",
        "  y_true = true labels in the form of a 1D array\n",
        "  y_pred = predicted labels in the form of a 1D array\n",
        "\n",
        "  Returns a dictionary of accuracy, precision, recall, f1-score.\n",
        "  \"\"\"\n",
        "  # Calculate model accuracy\n",
        "  model_accuracy = accuracy_score(y_true, y_pred) * 100\n",
        "  # Calculate model precision, recall and f1 score using \"weighted\" average\n",
        "  model_precision, model_recall, model_f1, _ = precision_recall_fscore_support(y_true, y_pred, average=\"weighted\")\n",
        "  model_results = {\"accuracy\": model_accuracy,\n",
        "                  \"precision\": model_precision,\n",
        "                  \"recall\": model_recall,\n",
        "                  \"f1\": model_f1}\n",
        "  return model_results\n",
        "  \n",
        "\n",
        "def plot_history(history): \n",
        "    plt.plot(history.history['accuracy'])\n",
        "    plt.plot(history.history['val_accuracy'])\n",
        "    plt.title('model accuracy')\n",
        "    plt.ylabel('accuracy')\n",
        "    plt.xlabel('epoch')\n",
        "    plt.legend(['train', 'val'], loc='upper left')\n",
        "    plt.show()\n",
        "    plt.plot(history.history['loss'])\n",
        "    plt.plot(history.history['val_loss'])\n",
        "    plt.title('model loss')\n",
        "    plt.ylabel('loss')\n",
        "    plt.xlabel('epoch')\n",
        "    plt.legend(['train', 'val'], loc='upper left')\n",
        "    plt.show()\n",
        "\n",
        "def compare_baseline_to_new_results(baseline_results, new_model_results):\n",
        "  for key, value in baseline_results.items():\n",
        "    print(f\"Baseline {key}: {value:.2f}, New {key}: {new_model_results[key]:.2f}, Difference: {new_model_results[key]-value:.2f}\")\n"
      ],
      "execution_count": 24,
      "outputs": []
    },
    {
      "cell_type": "markdown",
      "metadata": {
        "id": "ezBY1dTLFCb3"
      },
      "source": [
        "Get text data"
      ]
    },
    {
      "cell_type": "code",
      "metadata": {
        "colab": {
          "base_uri": "https://localhost:8080/",
          "height": 362
        },
        "id": "1VC_xltcFBg7",
        "outputId": "72a68d14-f764-4570-bb36-fa58cb5dea8a"
      },
      "source": [
        "siameseData = pd.read_csv(path + \"siamese_nn.csv\")\n",
        "emotionData = pd.read_csv(path  + \"emotion_recognition.csv\",sep=\";\")\n",
        "covidData = pd.read_csv(path + \"coranavirus_disease.csv\",sep=\";\")\n",
        "covidData[\"target\"] = 2\n",
        "emotionData[\"target\"] = 0\n",
        "train_df = pd.concat([emotionData,covidData, siameseData], ignore_index=True )\n",
        "train_shuffle=train_df.sample(frac=1,random_state=9) \n",
        "train_shuffle.head(10)"
      ],
      "execution_count": 7,
      "outputs": [
        {
          "output_type": "execute_result",
          "data": {
            "text/html": [
              "<div>\n",
              "<style scoped>\n",
              "    .dataframe tbody tr th:only-of-type {\n",
              "        vertical-align: middle;\n",
              "    }\n",
              "\n",
              "    .dataframe tbody tr th {\n",
              "        vertical-align: top;\n",
              "    }\n",
              "\n",
              "    .dataframe thead th {\n",
              "        text-align: right;\n",
              "    }\n",
              "</style>\n",
              "<table border=\"1\" class=\"dataframe\">\n",
              "  <thead>\n",
              "    <tr style=\"text-align: right;\">\n",
              "      <th></th>\n",
              "      <th>text</th>\n",
              "      <th>target</th>\n",
              "    </tr>\n",
              "  </thead>\n",
              "  <tbody>\n",
              "    <tr>\n",
              "      <th>39</th>\n",
              "      <td>In order to demonstrate the high effectivennes...</td>\n",
              "      <td>0</td>\n",
              "    </tr>\n",
              "    <tr>\n",
              "      <th>38</th>\n",
              "      <td>In this experimental work, we have used Multiv...</td>\n",
              "      <td>0</td>\n",
              "    </tr>\n",
              "    <tr>\n",
              "      <th>183</th>\n",
              "      <td>Hao has constructed the ensemble predictor of ...</td>\n",
              "      <td>2</td>\n",
              "    </tr>\n",
              "    <tr>\n",
              "      <th>13</th>\n",
              "      <td>. After the last convolutional layer we divide...</td>\n",
              "      <td>0</td>\n",
              "    </tr>\n",
              "    <tr>\n",
              "      <th>90</th>\n",
              "      <td>Speech is the main and direct means of transmi...</td>\n",
              "      <td>0</td>\n",
              "    </tr>\n",
              "    <tr>\n",
              "      <th>165</th>\n",
              "      <td>Region-wise this distribution depicts total de...</td>\n",
              "      <td>2</td>\n",
              "    </tr>\n",
              "    <tr>\n",
              "      <th>44</th>\n",
              "      <td>. It contains 535 utterances spoken by 10 acto...</td>\n",
              "      <td>0</td>\n",
              "    </tr>\n",
              "    <tr>\n",
              "      <th>4</th>\n",
              "      <td>The main advantage of DL is the fact that it r...</td>\n",
              "      <td>0</td>\n",
              "    </tr>\n",
              "    <tr>\n",
              "      <th>57</th>\n",
              "      <td>The researchers are still debating for what fe...</td>\n",
              "      <td>0</td>\n",
              "    </tr>\n",
              "    <tr>\n",
              "      <th>149</th>\n",
              "      <td>In addition, the introduced method learns to g...</td>\n",
              "      <td>2</td>\n",
              "    </tr>\n",
              "  </tbody>\n",
              "</table>\n",
              "</div>"
            ],
            "text/plain": [
              "                                                  text  target\n",
              "39   In order to demonstrate the high effectivennes...       0\n",
              "38   In this experimental work, we have used Multiv...       0\n",
              "183  Hao has constructed the ensemble predictor of ...       2\n",
              "13   . After the last convolutional layer we divide...       0\n",
              "90   Speech is the main and direct means of transmi...       0\n",
              "165  Region-wise this distribution depicts total de...       2\n",
              "44   . It contains 535 utterances spoken by 10 acto...       0\n",
              "4    The main advantage of DL is the fact that it r...       0\n",
              "57   The researchers are still debating for what fe...       0\n",
              "149  In addition, the introduced method learns to g...       2"
            ]
          },
          "metadata": {},
          "execution_count": 7
        }
      ]
    },
    {
      "cell_type": "code",
      "metadata": {
        "id": "aSbSaYMhFVhG"
      },
      "source": [
        "train_sentences, test_sentences, train_labels,test_labels = train_test_split(\n",
        "    train_shuffle['text'].to_numpy(),\n",
        "    train_shuffle['target'].to_numpy(),\n",
        "    test_size=0.1, \n",
        "    random_state=40\n",
        ")\n",
        "max_sq_len = round(sum([len(i.split()) for i in train_sentences])/len(train_sentences))\n",
        "text_vectorizer = TextVectorization(max_tokens=10000,  #number of word in vocabulary\n",
        "                                    standardize=\"lower_and_strip_punctuation\", \n",
        "                                    split =\"whitespace\",\n",
        "                                    output_mode=\"int\",\n",
        "                                    output_sequence_length=max_sq_len,\n",
        "                                    pad_to_max_tokens=True)\n"
      ],
      "execution_count": 15,
      "outputs": []
    },
    {
      "cell_type": "code",
      "metadata": {
        "id": "qB8j6zq0G7e8"
      },
      "source": [
        "from sklearn.feature_extraction.text import TfidfVectorizer\n",
        "from sklearn.naive_bayes import MultinomialNB\n",
        "from sklearn.pipeline import Pipeline\n",
        "model_0= Pipeline([ \n",
        "    (\"tfidf\",TfidfVectorizer()), \n",
        "    (\"clf\", MultinomialNB())\n",
        "])\n",
        "model_0.fit(train_sentences,train_labels)\n",
        "model_0_preds =model_0.predict(test_sentences)\n",
        "model_0_results = calculate_results(test_labels,model_0_preds)"
      ],
      "execution_count": 25,
      "outputs": []
    },
    {
      "cell_type": "markdown",
      "metadata": {
        "id": "aXzmDskzFavG"
      },
      "source": [
        "\n",
        "## Model 6: TensorFlow Hub Pretrained Sentence Encoder"
      ]
    },
    {
      "cell_type": "code",
      "metadata": {
        "id": "THokKVxTHi4m"
      },
      "source": [
        "url= \"https://tfhub.dev/google/universal-sentence-encoder/4\""
      ],
      "execution_count": 33,
      "outputs": []
    },
    {
      "cell_type": "code",
      "metadata": {
        "id": "JN_gcmkqEj42"
      },
      "source": [
        "# Example of pretrained embedding with universal sentence encoder - https://tfhub.dev/google/universal-sentence-encoder/4\n",
        "import tensorflow_hub as hub\n",
        "\n",
        "sentence_encoder_layer = hub.KerasLayer(url,\n",
        "                                        input_shape=[], # shape of inputs coming to our model \n",
        "                                        dtype=tf.string, # data type of inputs coming to the USE layer\n",
        "                                        trainable=False, # keep the pretrained weights (we'll create a feature extractor)\n",
        "                                        name=\"USE\") \n"
      ],
      "execution_count": 16,
      "outputs": []
    },
    {
      "cell_type": "code",
      "metadata": {
        "id": "eY09es_OEpzV"
      },
      "source": [
        "model_6 = tf.keras.Sequential([\n",
        "  sentence_encoder_layer, # take in sentences and then encode them into an embedding\n",
        "  layers.Dense(64, activation=\"relu\"),\n",
        "  layers.Dense(3, activation=\"softmax\")\n",
        "], name=\"model_6_USE\")"
      ],
      "execution_count": 20,
      "outputs": []
    },
    {
      "cell_type": "code",
      "metadata": {
        "colab": {
          "base_uri": "https://localhost:8080/"
        },
        "id": "ujZaPJJ_GJW_",
        "outputId": "249ad102-d1a1-4de8-afea-aa76a529091d"
      },
      "source": [
        "model_6.compile(loss=\"sparse_categorical_crossentropy\",\n",
        "                optimizer=tf.keras.optimizers.Adam(),\n",
        "                metrics=[\"accuracy\"])\n",
        "\n",
        "model_6.summary()"
      ],
      "execution_count": 21,
      "outputs": [
        {
          "output_type": "stream",
          "name": "stdout",
          "text": [
            "Model: \"model_6_USE\"\n",
            "_________________________________________________________________\n",
            " Layer (type)                Output Shape              Param #   \n",
            "=================================================================\n",
            " USE (KerasLayer)            (None, 512)               256797824 \n",
            "                                                                 \n",
            " dense_4 (Dense)             (None, 64)                32832     \n",
            "                                                                 \n",
            " dense_5 (Dense)             (None, 3)                 195       \n",
            "                                                                 \n",
            "=================================================================\n",
            "Total params: 256,830,851\n",
            "Trainable params: 33,027\n",
            "Non-trainable params: 256,797,824\n",
            "_________________________________________________________________\n"
          ]
        }
      ]
    },
    {
      "cell_type": "code",
      "metadata": {
        "colab": {
          "base_uri": "https://localhost:8080/"
        },
        "id": "7MX8tyrwGf66",
        "outputId": "e1c195b8-59dc-4817-eb64-c9f23c7c5214"
      },
      "source": [
        "model_6_history = model_6.fit(train_sentences,\n",
        "                              train_labels,\n",
        "                              epochs=5,\n",
        "                              validation_data=(test_sentences, test_labels))"
      ],
      "execution_count": 22,
      "outputs": [
        {
          "output_type": "stream",
          "name": "stdout",
          "text": [
            "Epoch 1/5\n",
            "9/9 [==============================] - 4s 83ms/step - loss: 1.0804 - accuracy: 0.5296 - val_loss: 1.0444 - val_accuracy: 0.7333\n",
            "Epoch 2/5\n",
            "9/9 [==============================] - 0s 18ms/step - loss: 0.9958 - accuracy: 0.8815 - val_loss: 0.9795 - val_accuracy: 0.8000\n",
            "Epoch 3/5\n",
            "9/9 [==============================] - 0s 19ms/step - loss: 0.9083 - accuracy: 0.9185 - val_loss: 0.8992 - val_accuracy: 0.8667\n",
            "Epoch 4/5\n",
            "9/9 [==============================] - 0s 18ms/step - loss: 0.8073 - accuracy: 0.9074 - val_loss: 0.8166 - val_accuracy: 0.8333\n",
            "Epoch 5/5\n",
            "9/9 [==============================] - 0s 17ms/step - loss: 0.7078 - accuracy: 0.9111 - val_loss: 0.7382 - val_accuracy: 0.8333\n"
          ]
        }
      ]
    },
    {
      "cell_type": "code",
      "metadata": {
        "colab": {
          "base_uri": "https://localhost:8080/",
          "height": 573
        },
        "id": "-BBK8go1GpPw",
        "outputId": "f8012af2-a1bf-4b8a-cdcc-1d49662050c4"
      },
      "source": [
        "plot_history(model_6_history)"
      ],
      "execution_count": 27,
      "outputs": [
        {
          "output_type": "display_data",
          "data": {
            "image/png": "[encoded data removed]",
            "text/plain": [
              "<Figure size 432x288 with 1 Axes>"
            ]
          },
          "metadata": {
            "needs_background": "light"
          }
        },
        {
          "output_type": "display_data",
          "data": {
            "image/png": "[encoded data removed]",
            "text/plain": [
              "<Figure size 432x288 with 1 Axes>"
            ]
          },
          "metadata": {
            "needs_background": "light"
          }
        }
      ]
    },
    {
      "cell_type": "code",
      "metadata": {
        "colab": {
          "base_uri": "https://localhost:8080/"
        },
        "id": "u-VUyBLdIcSa",
        "outputId": "304ed665-f19b-480b-ae4e-f8ed3c5983aa"
      },
      "source": [
        "model_6_pred_probs = model_6.predict(test_sentences)\n",
        "model_6_preds = tf.squeeze(tf.argmax(model_6_pred_probs, axis = 1))\n",
        "model_6_preds"
      ],
      "execution_count": 28,
      "outputs": [
        {
          "output_type": "execute_result",
          "data": {
            "text/plain": [
              "<tf.Tensor: shape=(30,), dtype=int64, numpy=\n",
              "array([0, 1, 1, 1, 2, 0, 1, 0, 2, 0, 2, 2, 0, 1, 2, 1, 0, 2, 1, 2, 1, 2,\n",
              "       1, 1, 1, 2, 0, 1, 1, 1])>"
            ]
          },
          "metadata": {},
          "execution_count": 28
        }
      ]
    },
    {
      "cell_type": "code",
      "metadata": {
        "colab": {
          "base_uri": "https://localhost:8080/"
        },
        "id": "uzjavep1IgNX",
        "outputId": "0399fd2c-d384-4835-b1a1-913fe81603cd"
      },
      "source": [
        "model_6_results = calculate_results(y_true = test_labels, y_pred = model_6_preds)\n",
        "compare_baseline_to_new_results(model_0_results, model_6_results)"
      ],
      "execution_count": 30,
      "outputs": [
        {
          "output_type": "stream",
          "name": "stdout",
          "text": [
            "Baseline accuracy: 96.67, New accuracy: 83.33, Difference: -13.33\n",
            "Baseline precision: 0.97, New precision: 0.87, Difference: -0.10\n",
            "Baseline recall: 0.97, New recall: 0.83, Difference: -0.13\n",
            "Baseline f1: 0.97, New f1: 0.83, Difference: -0.14\n"
          ]
        }
      ]
    },
    {
      "cell_type": "markdown",
      "metadata": {
        "id": "c5QsrnzzIwGd"
      },
      "source": [
        "### Model 7: TensorFlow Hub Pretrained Sentence Encoder 10% of the training data"
      ]
    },
    {
      "cell_type": "code",
      "metadata": {
        "id": "Wb4xnoFTIzUc"
      },
      "source": [
        "tf_hub_embedding_layer = hub.KerasLayer(url,\n",
        "                                        input_shape=[],\n",
        "                                        dtype=tf.string, \n",
        "                                        trainable=True, \n",
        "                                        name=\"USE-FT\")"
      ],
      "execution_count": 45,
      "outputs": []
    },
    {
      "cell_type": "code",
      "metadata": {
        "colab": {
          "base_uri": "https://localhost:8080/"
        },
        "id": "-d2JEiGoJU3M",
        "outputId": "a4029c5b-1e52-4e13-85ae-7a8aba029479"
      },
      "source": [
        "model_7 = tf.keras.Sequential([\n",
        "  tf_hub_embedding_layer, \n",
        "  layers.Dense(64, activation=\"relu\"),\n",
        "  layers.Dense(3, activation=\"softmax\")\n",
        "], name=\"model_7_USE_fine_tuning\")\n",
        "\n",
        "# Compile model\n",
        "model_7.compile(loss=\"sparse_categorical_crossentropy\",\n",
        "                optimizer=tf.keras.optimizers.Adam(),\n",
        "                metrics=[\"accuracy\"])\n",
        "\n",
        "\n",
        "model_7.summary()"
      ],
      "execution_count": 46,
      "outputs": [
        {
          "output_type": "stream",
          "name": "stdout",
          "text": [
            "Model: \"model_7_USE_fine_tuning\"\n",
            "_________________________________________________________________\n",
            " Layer (type)                Output Shape              Param #   \n",
            "=================================================================\n",
            " USE-FT (KerasLayer)         (None, 512)               256797824 \n",
            "                                                                 \n",
            " dense_10 (Dense)            (None, 64)                32832     \n",
            "                                                                 \n",
            " dense_11 (Dense)            (None, 3)                 195       \n",
            "                                                                 \n",
            "=================================================================\n",
            "Total params: 256,830,851\n",
            "Trainable params: 256,830,851\n",
            "Non-trainable params: 0\n",
            "_________________________________________________________________\n"
          ]
        }
      ]
    },
    {
      "cell_type": "code",
      "metadata": {
        "colab": {
          "base_uri": "https://localhost:8080/"
        },
        "id": "TeNv2r1sJkY8",
        "outputId": "f3c640e4-395a-4e63-d727-fe2dba3bb082"
      },
      "source": [
        "model_7_history=model_7.fit(train_sentences,train_labels,\n",
        "                            epochs=5,\n",
        "                            validation_data=(test_sentences,test_labels)\n",
        "                            )"
      ],
      "execution_count": 47,
      "outputs": [
        {
          "output_type": "stream",
          "name": "stdout",
          "text": [
            "Epoch 1/5\n",
            "9/9 [==============================] - 29s 2s/step - loss: 1.0429 - accuracy: 0.6037 - val_loss: 0.9538 - val_accuracy: 0.7667\n",
            "Epoch 2/5\n",
            "9/9 [==============================] - 21s 2s/step - loss: 0.8343 - accuracy: 0.9222 - val_loss: 0.7918 - val_accuracy: 0.8333\n",
            "Epoch 3/5\n",
            "9/9 [==============================] - 21s 2s/step - loss: 0.5735 - accuracy: 0.9556 - val_loss: 0.6258 - val_accuracy: 0.8333\n",
            "Epoch 4/5\n",
            "9/9 [==============================] - 21s 2s/step - loss: 0.3159 - accuracy: 0.9852 - val_loss: 0.4738 - val_accuracy: 0.8667\n",
            "Epoch 5/5\n",
            "9/9 [==============================] - 21s 2s/step - loss: 0.1346 - accuracy: 0.9963 - val_loss: 0.3837 - val_accuracy: 0.8000\n"
          ]
        }
      ]
    },
    {
      "cell_type": "code",
      "metadata": {
        "colab": {
          "base_uri": "https://localhost:8080/",
          "height": 573
        },
        "id": "x0FCmbhrJrny",
        "outputId": "26535544-ad89-4df3-9fed-98eb3e5104b7"
      },
      "source": [
        "plot_history(model_7_history)"
      ],
      "execution_count": 48,
      "outputs": [
        {
          "output_type": "display_data",
          "data": {
            "image/png": "[encoded data removed]",
            "text/plain": [
              "<Figure size 432x288 with 1 Axes>"
            ]
          },
          "metadata": {
            "needs_background": "light"
          }
        },
        {
          "output_type": "display_data",
          "data": {
            "image/png": "[encoded data removed]",
            "text/plain": [
              "<Figure size 432x288 with 1 Axes>"
            ]
          },
          "metadata": {
            "needs_background": "light"
          }
        }
      ]
    },
    {
      "cell_type": "code",
      "metadata": {
        "colab": {
          "base_uri": "https://localhost:8080/"
        },
        "id": "y4r7QJ4aJyqm",
        "outputId": "a7fb090a-fb17-430b-ffad-861a66c09346"
      },
      "source": [
        "model_7_pred_probs = model_7.predict(test_sentences)\n",
        "model_7_preds = tf.squeeze(tf.argmax(model_7_pred_probs, axis = 1))\n",
        "model_7_results = calculate_results(y_true = test_labels, y_pred = model_7_preds)\n",
        "compare_baseline_to_new_results(model_0_results, model_7_results)"
      ],
      "execution_count": 49,
      "outputs": [
        {
          "output_type": "stream",
          "name": "stdout",
          "text": [
            "Baseline accuracy: 96.67, New accuracy: 80.00, Difference: -16.67\n",
            "Baseline precision: 0.97, New precision: 0.80, Difference: -0.17\n",
            "Baseline recall: 0.97, New recall: 0.80, Difference: -0.17\n",
            "Baseline f1: 0.97, New f1: 0.80, Difference: -0.17\n"
          ]
        }
      ]
    },
    {
      "cell_type": "code",
      "metadata": {
        "colab": {
          "base_uri": "https://localhost:8080/"
        },
        "id": "z1WT_LnxJ-6V",
        "outputId": "41569b04-df7d-483f-c2c6-c8a2f8565041"
      },
      "source": [
        "for layer_number , layer in enumerate(model_7.layers):\n",
        "  print(layer_number, layer.name, layer.trainable)"
      ],
      "execution_count": 50,
      "outputs": [
        {
          "output_type": "stream",
          "name": "stdout",
          "text": [
            "0 USE-FT True\n",
            "1 dense_10 True\n",
            "2 dense_11 True\n"
          ]
        }
      ]
    },
    {
      "cell_type": "code",
      "metadata": {
        "colab": {
          "base_uri": "https://localhost:8080/"
        },
        "id": "PQrRF5XYKOOc",
        "outputId": "0df40e56-1dde-423a-d4bb-5a68bd31d632"
      },
      "source": [
        "tf_hub_embedding_layer.trainable=False\n",
        "model_8 = tf.keras.Sequential([\n",
        "  tf_hub_embedding_layer, \n",
        "  layers.Dense(64, activation=\"relu\"),\n",
        "  layers.Dense(3, activation=\"softmax\")\n",
        "], name=\"model_8_USE_FT_Not_trainable\")\n",
        "\n",
        "\n",
        "model_8.compile(loss=\"sparse_categorical_crossentropy\",\n",
        "                optimizer=tf.keras.optimizers.Adam(),\n",
        "                metrics=[\"accuracy\"])\n",
        "\n",
        "\n",
        "model_8.summary()"
      ],
      "execution_count": 51,
      "outputs": [
        {
          "output_type": "stream",
          "name": "stdout",
          "text": [
            "Model: \"model_8_USE_FT_Not_trainable\"\n",
            "_________________________________________________________________\n",
            " Layer (type)                Output Shape              Param #   \n",
            "=================================================================\n",
            " USE-FT (KerasLayer)         (None, 512)               256797824 \n",
            "                                                                 \n",
            " dense_12 (Dense)            (None, 64)                32832     \n",
            "                                                                 \n",
            " dense_13 (Dense)            (None, 3)                 195       \n",
            "                                                                 \n",
            "=================================================================\n",
            "Total params: 256,830,851\n",
            "Trainable params: 33,027\n",
            "Non-trainable params: 256,797,824\n",
            "_________________________________________________________________\n"
          ]
        }
      ]
    },
    {
      "cell_type": "code",
      "metadata": {
        "colab": {
          "base_uri": "https://localhost:8080/"
        },
        "id": "cZIHjc5hKjRC",
        "outputId": "3907bd79-1be9-4572-ab77-169c0d7a2062"
      },
      "source": [
        "model_8_history = model_8.fit(train_sentences,train_labels,epochs=5,\n",
        "                        validation_data=(test_sentences,test_labels))"
      ],
      "execution_count": 53,
      "outputs": [
        {
          "output_type": "stream",
          "name": "stdout",
          "text": [
            "Epoch 1/5\n",
            "9/9 [==============================] - 0s 21ms/step - loss: 0.0776 - accuracy: 1.0000 - val_loss: 0.3764 - val_accuracy: 0.8333\n",
            "Epoch 2/5\n",
            "9/9 [==============================] - 0s 19ms/step - loss: 0.0511 - accuracy: 1.0000 - val_loss: 0.3599 - val_accuracy: 0.8333\n",
            "Epoch 3/5\n",
            "9/9 [==============================] - 0s 18ms/step - loss: 0.0368 - accuracy: 1.0000 - val_loss: 0.3505 - val_accuracy: 0.8333\n",
            "Epoch 4/5\n",
            "9/9 [==============================] - 0s 18ms/step - loss: 0.0282 - accuracy: 1.0000 - val_loss: 0.3450 - val_accuracy: 0.8333\n",
            "Epoch 5/5\n",
            "9/9 [==============================] - 0s 18ms/step - loss: 0.0228 - accuracy: 1.0000 - val_loss: 0.3418 - val_accuracy: 0.8333\n"
          ]
        }
      ]
    },
    {
      "cell_type": "code",
      "metadata": {
        "colab": {
          "base_uri": "https://localhost:8080/",
          "height": 573
        },
        "id": "uakWQtyvLCOd",
        "outputId": "8bcd26d5-b8be-4306-b639-936565e57fa2"
      },
      "source": [
        "plot_history(model_8_history)"
      ],
      "execution_count": 54,
      "outputs": [
        {
          "output_type": "display_data",
          "data": {
            "image/png": "[encoded data removed]",
            "text/plain": [
              "<Figure size 432x288 with 1 Axes>"
            ]
          },
          "metadata": {
            "needs_background": "light"
          }
        },
        {
          "output_type": "display_data",
          "data": {
            "image/png": "[encoded data removed]",
            "text/plain": [
              "<Figure size 432x288 with 1 Axes>"
            ]
          },
          "metadata": {
            "needs_background": "light"
          }
        }
      ]
    },
    {
      "cell_type": "code",
      "metadata": {
        "colab": {
          "base_uri": "https://localhost:8080/"
        },
        "id": "972SeKh1LFz-",
        "outputId": "f0f71e94-b85a-4236-981f-7504d663d368"
      },
      "source": [
        "model_8_pred_probs = model_8.predict(test_sentences)\n",
        "model_8_preds = tf.squeeze(tf.argmax(model_8_pred_probs, axis = 1))\n",
        "model_8_results = calculate_results(y_true = test_labels, y_pred = model_8_preds)\n",
        "compare_baseline_to_new_results(model_0_results, model_8_results)"
      ],
      "execution_count": 55,
      "outputs": [
        {
          "output_type": "stream",
          "name": "stdout",
          "text": [
            "Baseline accuracy: 96.67, New accuracy: 83.33, Difference: -13.33\n",
            "Baseline precision: 0.97, New precision: 0.83, Difference: -0.14\n",
            "Baseline recall: 0.97, New recall: 0.83, Difference: -0.13\n",
            "Baseline f1: 0.97, New f1: 0.83, Difference: -0.14\n"
          ]
        }
      ]
    },
    {
      "cell_type": "code",
      "metadata": {
        "colab": {
          "base_uri": "https://localhost:8080/",
          "height": 175
        },
        "id": "Ag8tY44WMWzw",
        "outputId": "7fee39c4-1c46-4c7d-cc4a-d4316371ff79"
      },
      "source": [
        "df_compare = pd.DataFrame({'BaseLine': model_0_results ,\n",
        "                           'USE': model_6_results ,\n",
        "                            'USE_FT' : model_7_results,\n",
        "                            'USE_FT_Not_trainable': model_8_results\n",
        "                           })\n",
        "df_compare"
      ],
      "execution_count": 58,
      "outputs": [
        {
          "output_type": "execute_result",
          "data": {
            "text/html": [
              "<div>\n",
              "<style scoped>\n",
              "    .dataframe tbody tr th:only-of-type {\n",
              "        vertical-align: middle;\n",
              "    }\n",
              "\n",
              "    .dataframe tbody tr th {\n",
              "        vertical-align: top;\n",
              "    }\n",
              "\n",
              "    .dataframe thead th {\n",
              "        text-align: right;\n",
              "    }\n",
              "</style>\n",
              "<table border=\"1\" class=\"dataframe\">\n",
              "  <thead>\n",
              "    <tr style=\"text-align: right;\">\n",
              "      <th></th>\n",
              "      <th>BaseLine</th>\n",
              "      <th>USE</th>\n",
              "      <th>USE_FT</th>\n",
              "      <th>USE_FT_Not_trainable</th>\n",
              "    </tr>\n",
              "  </thead>\n",
              "  <tbody>\n",
              "    <tr>\n",
              "      <th>accuracy</th>\n",
              "      <td>96.666667</td>\n",
              "      <td>83.333333</td>\n",
              "      <td>80.000000</td>\n",
              "      <td>83.333333</td>\n",
              "    </tr>\n",
              "    <tr>\n",
              "      <th>precision</th>\n",
              "      <td>0.969444</td>\n",
              "      <td>0.871429</td>\n",
              "      <td>0.803811</td>\n",
              "      <td>0.831481</td>\n",
              "    </tr>\n",
              "    <tr>\n",
              "      <th>recall</th>\n",
              "      <td>0.966667</td>\n",
              "      <td>0.833333</td>\n",
              "      <td>0.800000</td>\n",
              "      <td>0.833333</td>\n",
              "    </tr>\n",
              "    <tr>\n",
              "      <th>f1</th>\n",
              "      <td>0.966411</td>\n",
              "      <td>0.829630</td>\n",
              "      <td>0.798228</td>\n",
              "      <td>0.831121</td>\n",
              "    </tr>\n",
              "  </tbody>\n",
              "</table>\n",
              "</div>"
            ],
            "text/plain": [
              "            BaseLine        USE     USE_FT  USE_FT_Not_trainable\n",
              "accuracy   96.666667  83.333333  80.000000             83.333333\n",
              "precision   0.969444   0.871429   0.803811              0.831481\n",
              "recall      0.966667   0.833333   0.800000              0.833333\n",
              "f1          0.966411   0.829630   0.798228              0.831121"
            ]
          },
          "metadata": {},
          "execution_count": 58
        }
      ]
    }
  ]
}